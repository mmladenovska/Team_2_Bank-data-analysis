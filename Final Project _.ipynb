{
 "cells": [
  {
   "cell_type": "code",
   "execution_count": 2,
   "metadata": {},
   "outputs": [],
   "source": [
    "import pandas as pd\n",
    "import numpy as np"
   ]
  },
  {
   "cell_type": "code",
   "execution_count": 3,
   "metadata": {},
   "outputs": [],
   "source": [
    "# sklearn libraries\n",
    "from sklearn.neighbors import KNeighborsClassifier\n",
    "from sklearn.model_selection import train_test_split\n",
    "from sklearn.preprocessing import normalize\n",
    "from sklearn.metrics import confusion_matrix,accuracy_score,precision_score,recall_score,f1_score,matthews_corrcoef,classification_report,roc_curve\n",
    "from sklearn.preprocessing import StandardScaler\n",
    "from sklearn.decomposition import PCA"
   ]
  },
  {
   "cell_type": "code",
   "execution_count": 4,
   "metadata": {},
   "outputs": [],
   "source": [
    "# visual libraries\n",
    "from matplotlib import pyplot as plt\n",
    "import seaborn as sns"
   ]
  },
  {
   "cell_type": "code",
   "execution_count": 5,
   "metadata": {},
   "outputs": [],
   "source": [
    "dataset = pd.read_csv('dataset_bank.csv')"
   ]
  },
  {
   "cell_type": "code",
   "execution_count": 6,
   "metadata": {},
   "outputs": [
    {
     "data": {
      "text/html": [
       "<div>\n",
       "<style scoped>\n",
       "    .dataframe tbody tr th:only-of-type {\n",
       "        vertical-align: middle;\n",
       "    }\n",
       "\n",
       "    .dataframe tbody tr th {\n",
       "        vertical-align: top;\n",
       "    }\n",
       "\n",
       "    .dataframe thead th {\n",
       "        text-align: right;\n",
       "    }\n",
       "</style>\n",
       "<table border=\"1\" class=\"dataframe\">\n",
       "  <thead>\n",
       "    <tr style=\"text-align: right;\">\n",
       "      <th></th>\n",
       "      <th>CLIENTNUM</th>\n",
       "      <th>Attrition_Flag</th>\n",
       "      <th>Customer_Age</th>\n",
       "      <th>Gender</th>\n",
       "      <th>Dependent_count</th>\n",
       "      <th>Education_Level</th>\n",
       "      <th>Marital_Status</th>\n",
       "      <th>Income_Category</th>\n",
       "      <th>Card_Category</th>\n",
       "      <th>Months_on_book</th>\n",
       "      <th>...</th>\n",
       "      <th>Months_Inactive_12_mon</th>\n",
       "      <th>Contacts_Count_12_mon</th>\n",
       "      <th>Credit_Limit</th>\n",
       "      <th>Total_Revolving_Bal</th>\n",
       "      <th>Avg_Open_To_Buy</th>\n",
       "      <th>Total_Amt_Chng_Q4_Q1</th>\n",
       "      <th>Total_Trans_Amt</th>\n",
       "      <th>Total_Trans_Ct</th>\n",
       "      <th>Total_Ct_Chng_Q4_Q1</th>\n",
       "      <th>Avg_Utilization_Ratio</th>\n",
       "    </tr>\n",
       "  </thead>\n",
       "  <tbody>\n",
       "    <tr>\n",
       "      <th>0</th>\n",
       "      <td>768805383</td>\n",
       "      <td>Existing Customer</td>\n",
       "      <td>45</td>\n",
       "      <td>M</td>\n",
       "      <td>3</td>\n",
       "      <td>High School</td>\n",
       "      <td>Married</td>\n",
       "      <td>$60K - $80K</td>\n",
       "      <td>Blue</td>\n",
       "      <td>39.0</td>\n",
       "      <td>...</td>\n",
       "      <td>1</td>\n",
       "      <td>3</td>\n",
       "      <td>12691.0</td>\n",
       "      <td>777</td>\n",
       "      <td>11914.0</td>\n",
       "      <td>1.335</td>\n",
       "      <td>1144</td>\n",
       "      <td>42</td>\n",
       "      <td>1.625</td>\n",
       "      <td>0.061</td>\n",
       "    </tr>\n",
       "    <tr>\n",
       "      <th>1</th>\n",
       "      <td>818770008</td>\n",
       "      <td>Existing Customer</td>\n",
       "      <td>49</td>\n",
       "      <td>F</td>\n",
       "      <td>5</td>\n",
       "      <td>Graduate</td>\n",
       "      <td>Single</td>\n",
       "      <td>Less than $40K</td>\n",
       "      <td>Blue</td>\n",
       "      <td>44.0</td>\n",
       "      <td>...</td>\n",
       "      <td>1</td>\n",
       "      <td>2</td>\n",
       "      <td>8256.0</td>\n",
       "      <td>864</td>\n",
       "      <td>7392.0</td>\n",
       "      <td>1.541</td>\n",
       "      <td>1291</td>\n",
       "      <td>33</td>\n",
       "      <td>3.714</td>\n",
       "      <td>0.105</td>\n",
       "    </tr>\n",
       "    <tr>\n",
       "      <th>2</th>\n",
       "      <td>713982108</td>\n",
       "      <td>Existing Customer</td>\n",
       "      <td>51</td>\n",
       "      <td>M</td>\n",
       "      <td>3</td>\n",
       "      <td>Graduate</td>\n",
       "      <td>Married</td>\n",
       "      <td>$80K - $120K</td>\n",
       "      <td>Blue</td>\n",
       "      <td>36.0</td>\n",
       "      <td>...</td>\n",
       "      <td>1</td>\n",
       "      <td>0</td>\n",
       "      <td>3418.0</td>\n",
       "      <td>0</td>\n",
       "      <td>3418.0</td>\n",
       "      <td>2.594</td>\n",
       "      <td>1887</td>\n",
       "      <td>20</td>\n",
       "      <td>2.333</td>\n",
       "      <td>0.000</td>\n",
       "    </tr>\n",
       "    <tr>\n",
       "      <th>3</th>\n",
       "      <td>769911858</td>\n",
       "      <td>Existing Customer</td>\n",
       "      <td>40</td>\n",
       "      <td>F</td>\n",
       "      <td>4</td>\n",
       "      <td>High School</td>\n",
       "      <td>Unknown</td>\n",
       "      <td>Less than $40K</td>\n",
       "      <td>Blue</td>\n",
       "      <td>34.0</td>\n",
       "      <td>...</td>\n",
       "      <td>4</td>\n",
       "      <td>1</td>\n",
       "      <td>3313.0</td>\n",
       "      <td>2517</td>\n",
       "      <td>796.0</td>\n",
       "      <td>1.405</td>\n",
       "      <td>1171</td>\n",
       "      <td>20</td>\n",
       "      <td>2.333</td>\n",
       "      <td>0.760</td>\n",
       "    </tr>\n",
       "    <tr>\n",
       "      <th>4</th>\n",
       "      <td>709106358</td>\n",
       "      <td>Existing Customer</td>\n",
       "      <td>40</td>\n",
       "      <td>M</td>\n",
       "      <td>3</td>\n",
       "      <td>Uneducated</td>\n",
       "      <td>Married</td>\n",
       "      <td>$60K - $80K</td>\n",
       "      <td>Blue</td>\n",
       "      <td>21.0</td>\n",
       "      <td>...</td>\n",
       "      <td>1</td>\n",
       "      <td>0</td>\n",
       "      <td>4716.0</td>\n",
       "      <td>0</td>\n",
       "      <td>4716.0</td>\n",
       "      <td>2.175</td>\n",
       "      <td>816</td>\n",
       "      <td>28</td>\n",
       "      <td>2.500</td>\n",
       "      <td>0.000</td>\n",
       "    </tr>\n",
       "  </tbody>\n",
       "</table>\n",
       "<p>5 rows × 21 columns</p>\n",
       "</div>"
      ],
      "text/plain": [
       "   CLIENTNUM     Attrition_Flag  Customer_Age Gender  Dependent_count  \\\n",
       "0  768805383  Existing Customer            45      M                3   \n",
       "1  818770008  Existing Customer            49      F                5   \n",
       "2  713982108  Existing Customer            51      M                3   \n",
       "3  769911858  Existing Customer            40      F                4   \n",
       "4  709106358  Existing Customer            40      M                3   \n",
       "\n",
       "  Education_Level Marital_Status Income_Category Card_Category  \\\n",
       "0     High School        Married     $60K - $80K          Blue   \n",
       "1        Graduate         Single  Less than $40K          Blue   \n",
       "2        Graduate        Married    $80K - $120K          Blue   \n",
       "3     High School        Unknown  Less than $40K          Blue   \n",
       "4      Uneducated        Married     $60K - $80K          Blue   \n",
       "\n",
       "   Months_on_book  ...  Months_Inactive_12_mon  Contacts_Count_12_mon  \\\n",
       "0            39.0  ...                       1                      3   \n",
       "1            44.0  ...                       1                      2   \n",
       "2            36.0  ...                       1                      0   \n",
       "3            34.0  ...                       4                      1   \n",
       "4            21.0  ...                       1                      0   \n",
       "\n",
       "   Credit_Limit  Total_Revolving_Bal  Avg_Open_To_Buy  Total_Amt_Chng_Q4_Q1  \\\n",
       "0       12691.0                  777          11914.0                 1.335   \n",
       "1        8256.0                  864           7392.0                 1.541   \n",
       "2        3418.0                    0           3418.0                 2.594   \n",
       "3        3313.0                 2517            796.0                 1.405   \n",
       "4        4716.0                    0           4716.0                 2.175   \n",
       "\n",
       "   Total_Trans_Amt  Total_Trans_Ct  Total_Ct_Chng_Q4_Q1  Avg_Utilization_Ratio  \n",
       "0             1144              42                1.625                  0.061  \n",
       "1             1291              33                3.714                  0.105  \n",
       "2             1887              20                2.333                  0.000  \n",
       "3             1171              20                2.333                  0.760  \n",
       "4              816              28                2.500                  0.000  \n",
       "\n",
       "[5 rows x 21 columns]"
      ]
     },
     "execution_count": 6,
     "metadata": {},
     "output_type": "execute_result"
    }
   ],
   "source": [
    "dataset.head()\n"
   ]
  },
  {
   "cell_type": "code",
   "execution_count": 7,
   "metadata": {},
   "outputs": [
    {
     "data": {
      "text/plain": [
       "(10127, 21)"
      ]
     },
     "execution_count": 7,
     "metadata": {},
     "output_type": "execute_result"
    }
   ],
   "source": [
    "dataset.shape"
   ]
  },
  {
   "cell_type": "code",
   "execution_count": 8,
   "metadata": {},
   "outputs": [
    {
     "data": {
      "text/html": [
       "<div>\n",
       "<style scoped>\n",
       "    .dataframe tbody tr th:only-of-type {\n",
       "        vertical-align: middle;\n",
       "    }\n",
       "\n",
       "    .dataframe tbody tr th {\n",
       "        vertical-align: top;\n",
       "    }\n",
       "\n",
       "    .dataframe thead th {\n",
       "        text-align: right;\n",
       "    }\n",
       "</style>\n",
       "<table border=\"1\" class=\"dataframe\">\n",
       "  <thead>\n",
       "    <tr style=\"text-align: right;\">\n",
       "      <th></th>\n",
       "      <th>CLIENTNUM</th>\n",
       "      <th>Customer_Age</th>\n",
       "      <th>Dependent_count</th>\n",
       "      <th>Months_on_book</th>\n",
       "      <th>Total_Relationship_Count</th>\n",
       "      <th>Months_Inactive_12_mon</th>\n",
       "      <th>Contacts_Count_12_mon</th>\n",
       "      <th>Credit_Limit</th>\n",
       "      <th>Total_Revolving_Bal</th>\n",
       "      <th>Avg_Open_To_Buy</th>\n",
       "      <th>Total_Amt_Chng_Q4_Q1</th>\n",
       "      <th>Total_Trans_Amt</th>\n",
       "      <th>Total_Trans_Ct</th>\n",
       "      <th>Total_Ct_Chng_Q4_Q1</th>\n",
       "      <th>Avg_Utilization_Ratio</th>\n",
       "    </tr>\n",
       "  </thead>\n",
       "  <tbody>\n",
       "    <tr>\n",
       "      <th>count</th>\n",
       "      <td>1.012700e+04</td>\n",
       "      <td>10127.000000</td>\n",
       "      <td>10127.000000</td>\n",
       "      <td>1.012700e+04</td>\n",
       "      <td>10127.000000</td>\n",
       "      <td>10127.000000</td>\n",
       "      <td>10127.000000</td>\n",
       "      <td>10127.000000</td>\n",
       "      <td>10127.000000</td>\n",
       "      <td>10127.000000</td>\n",
       "      <td>10127.000000</td>\n",
       "      <td>10127.000000</td>\n",
       "      <td>10127.000000</td>\n",
       "      <td>10127.000000</td>\n",
       "      <td>10127.000000</td>\n",
       "    </tr>\n",
       "    <tr>\n",
       "      <th>mean</th>\n",
       "      <td>7.391776e+08</td>\n",
       "      <td>46.325960</td>\n",
       "      <td>2.346203</td>\n",
       "      <td>3.742297e+07</td>\n",
       "      <td>3.812580</td>\n",
       "      <td>2.341167</td>\n",
       "      <td>2.455317</td>\n",
       "      <td>8631.953698</td>\n",
       "      <td>1162.814061</td>\n",
       "      <td>7469.139637</td>\n",
       "      <td>0.759941</td>\n",
       "      <td>4404.086304</td>\n",
       "      <td>64.858695</td>\n",
       "      <td>0.712222</td>\n",
       "      <td>0.274894</td>\n",
       "    </tr>\n",
       "    <tr>\n",
       "      <th>std</th>\n",
       "      <td>3.690378e+07</td>\n",
       "      <td>8.016814</td>\n",
       "      <td>1.298908</td>\n",
       "      <td>3.193385e+09</td>\n",
       "      <td>1.554408</td>\n",
       "      <td>1.010622</td>\n",
       "      <td>1.106225</td>\n",
       "      <td>9088.776650</td>\n",
       "      <td>814.987335</td>\n",
       "      <td>9090.685324</td>\n",
       "      <td>0.219207</td>\n",
       "      <td>3397.129254</td>\n",
       "      <td>23.472570</td>\n",
       "      <td>0.238086</td>\n",
       "      <td>0.275691</td>\n",
       "    </tr>\n",
       "    <tr>\n",
       "      <th>min</th>\n",
       "      <td>7.080821e+08</td>\n",
       "      <td>26.000000</td>\n",
       "      <td>0.000000</td>\n",
       "      <td>-2.147484e+09</td>\n",
       "      <td>1.000000</td>\n",
       "      <td>0.000000</td>\n",
       "      <td>0.000000</td>\n",
       "      <td>1438.300000</td>\n",
       "      <td>0.000000</td>\n",
       "      <td>3.000000</td>\n",
       "      <td>0.000000</td>\n",
       "      <td>510.000000</td>\n",
       "      <td>10.000000</td>\n",
       "      <td>0.000000</td>\n",
       "      <td>0.000000</td>\n",
       "    </tr>\n",
       "    <tr>\n",
       "      <th>25%</th>\n",
       "      <td>7.130368e+08</td>\n",
       "      <td>41.000000</td>\n",
       "      <td>1.000000</td>\n",
       "      <td>3.100000e+01</td>\n",
       "      <td>3.000000</td>\n",
       "      <td>2.000000</td>\n",
       "      <td>2.000000</td>\n",
       "      <td>2555.000000</td>\n",
       "      <td>359.000000</td>\n",
       "      <td>1324.500000</td>\n",
       "      <td>0.631000</td>\n",
       "      <td>2155.500000</td>\n",
       "      <td>45.000000</td>\n",
       "      <td>0.582000</td>\n",
       "      <td>0.023000</td>\n",
       "    </tr>\n",
       "    <tr>\n",
       "      <th>50%</th>\n",
       "      <td>7.179264e+08</td>\n",
       "      <td>46.000000</td>\n",
       "      <td>2.000000</td>\n",
       "      <td>3.600000e+01</td>\n",
       "      <td>4.000000</td>\n",
       "      <td>2.000000</td>\n",
       "      <td>2.000000</td>\n",
       "      <td>4549.000000</td>\n",
       "      <td>1276.000000</td>\n",
       "      <td>3474.000000</td>\n",
       "      <td>0.736000</td>\n",
       "      <td>3899.000000</td>\n",
       "      <td>67.000000</td>\n",
       "      <td>0.702000</td>\n",
       "      <td>0.176000</td>\n",
       "    </tr>\n",
       "    <tr>\n",
       "      <th>75%</th>\n",
       "      <td>7.731435e+08</td>\n",
       "      <td>52.000000</td>\n",
       "      <td>3.000000</td>\n",
       "      <td>4.000000e+01</td>\n",
       "      <td>5.000000</td>\n",
       "      <td>3.000000</td>\n",
       "      <td>3.000000</td>\n",
       "      <td>11067.500000</td>\n",
       "      <td>1784.000000</td>\n",
       "      <td>9859.000000</td>\n",
       "      <td>0.859000</td>\n",
       "      <td>4741.000000</td>\n",
       "      <td>81.000000</td>\n",
       "      <td>0.818000</td>\n",
       "      <td>0.503000</td>\n",
       "    </tr>\n",
       "    <tr>\n",
       "      <th>max</th>\n",
       "      <td>8.283431e+08</td>\n",
       "      <td>73.000000</td>\n",
       "      <td>5.000000</td>\n",
       "      <td>3.210000e+11</td>\n",
       "      <td>6.000000</td>\n",
       "      <td>6.000000</td>\n",
       "      <td>6.000000</td>\n",
       "      <td>34516.000000</td>\n",
       "      <td>2517.000000</td>\n",
       "      <td>34516.000000</td>\n",
       "      <td>3.397000</td>\n",
       "      <td>18484.000000</td>\n",
       "      <td>139.000000</td>\n",
       "      <td>3.714000</td>\n",
       "      <td>0.999000</td>\n",
       "    </tr>\n",
       "  </tbody>\n",
       "</table>\n",
       "</div>"
      ],
      "text/plain": [
       "          CLIENTNUM  Customer_Age  Dependent_count  Months_on_book  \\\n",
       "count  1.012700e+04  10127.000000     10127.000000    1.012700e+04   \n",
       "mean   7.391776e+08     46.325960         2.346203    3.742297e+07   \n",
       "std    3.690378e+07      8.016814         1.298908    3.193385e+09   \n",
       "min    7.080821e+08     26.000000         0.000000   -2.147484e+09   \n",
       "25%    7.130368e+08     41.000000         1.000000    3.100000e+01   \n",
       "50%    7.179264e+08     46.000000         2.000000    3.600000e+01   \n",
       "75%    7.731435e+08     52.000000         3.000000    4.000000e+01   \n",
       "max    8.283431e+08     73.000000         5.000000    3.210000e+11   \n",
       "\n",
       "       Total_Relationship_Count  Months_Inactive_12_mon  \\\n",
       "count              10127.000000            10127.000000   \n",
       "mean                   3.812580                2.341167   \n",
       "std                    1.554408                1.010622   \n",
       "min                    1.000000                0.000000   \n",
       "25%                    3.000000                2.000000   \n",
       "50%                    4.000000                2.000000   \n",
       "75%                    5.000000                3.000000   \n",
       "max                    6.000000                6.000000   \n",
       "\n",
       "       Contacts_Count_12_mon  Credit_Limit  Total_Revolving_Bal  \\\n",
       "count           10127.000000  10127.000000         10127.000000   \n",
       "mean                2.455317   8631.953698          1162.814061   \n",
       "std                 1.106225   9088.776650           814.987335   \n",
       "min                 0.000000   1438.300000             0.000000   \n",
       "25%                 2.000000   2555.000000           359.000000   \n",
       "50%                 2.000000   4549.000000          1276.000000   \n",
       "75%                 3.000000  11067.500000          1784.000000   \n",
       "max                 6.000000  34516.000000          2517.000000   \n",
       "\n",
       "       Avg_Open_To_Buy  Total_Amt_Chng_Q4_Q1  Total_Trans_Amt  Total_Trans_Ct  \\\n",
       "count     10127.000000          10127.000000     10127.000000    10127.000000   \n",
       "mean       7469.139637              0.759941      4404.086304       64.858695   \n",
       "std        9090.685324              0.219207      3397.129254       23.472570   \n",
       "min           3.000000              0.000000       510.000000       10.000000   \n",
       "25%        1324.500000              0.631000      2155.500000       45.000000   \n",
       "50%        3474.000000              0.736000      3899.000000       67.000000   \n",
       "75%        9859.000000              0.859000      4741.000000       81.000000   \n",
       "max       34516.000000              3.397000     18484.000000      139.000000   \n",
       "\n",
       "       Total_Ct_Chng_Q4_Q1  Avg_Utilization_Ratio  \n",
       "count         10127.000000           10127.000000  \n",
       "mean              0.712222               0.274894  \n",
       "std               0.238086               0.275691  \n",
       "min               0.000000               0.000000  \n",
       "25%               0.582000               0.023000  \n",
       "50%               0.702000               0.176000  \n",
       "75%               0.818000               0.503000  \n",
       "max               3.714000               0.999000  "
      ]
     },
     "execution_count": 8,
     "metadata": {},
     "output_type": "execute_result"
    }
   ],
   "source": [
    "dataset.describe()"
   ]
  },
  {
   "cell_type": "code",
   "execution_count": 9,
   "metadata": {},
   "outputs": [
    {
     "data": {
      "text/plain": [
       "CLIENTNUM                   0\n",
       "Attrition_Flag              0\n",
       "Customer_Age                0\n",
       "Gender                      0\n",
       "Dependent_count             0\n",
       "Education_Level             0\n",
       "Marital_Status              0\n",
       "Income_Category             0\n",
       "Card_Category               0\n",
       "Months_on_book              0\n",
       "Total_Relationship_Count    0\n",
       "Months_Inactive_12_mon      0\n",
       "Contacts_Count_12_mon       0\n",
       "Credit_Limit                0\n",
       "Total_Revolving_Bal         0\n",
       "Avg_Open_To_Buy             0\n",
       "Total_Amt_Chng_Q4_Q1        0\n",
       "Total_Trans_Amt             0\n",
       "Total_Trans_Ct              0\n",
       "Total_Ct_Chng_Q4_Q1         0\n",
       "Avg_Utilization_Ratio       0\n",
       "dtype: int64"
      ]
     },
     "execution_count": 9,
     "metadata": {},
     "output_type": "execute_result"
    }
   ],
   "source": [
    "# Check columns list and missing values=No missing values\n",
    "dataset.isnull().sum()"
   ]
  },
  {
   "cell_type": "code",
   "execution_count": 10,
   "metadata": {},
   "outputs": [
    {
     "data": {
      "text/plain": [
       "CLIENTNUM                   10127\n",
       "Attrition_Flag                  2\n",
       "Customer_Age                   45\n",
       "Gender                          2\n",
       "Dependent_count                 6\n",
       "Education_Level                 7\n",
       "Marital_Status                  4\n",
       "Income_Category                 6\n",
       "Card_Category                   4\n",
       "Months_on_book                 47\n",
       "Total_Relationship_Count        6\n",
       "Months_Inactive_12_mon          7\n",
       "Contacts_Count_12_mon           7\n",
       "Credit_Limit                 6205\n",
       "Total_Revolving_Bal          1974\n",
       "Avg_Open_To_Buy              6813\n",
       "Total_Amt_Chng_Q4_Q1         1158\n",
       "Total_Trans_Amt              5033\n",
       "Total_Trans_Ct                126\n",
       "Total_Ct_Chng_Q4_Q1           830\n",
       "Avg_Utilization_Ratio         964\n",
       "dtype: int64"
      ]
     },
     "execution_count": 10,
     "metadata": {},
     "output_type": "execute_result"
    }
   ],
   "source": [
    "# Get unique count for each variable\n",
    "dataset.nunique()"
   ]
  },
  {
   "cell_type": "code",
   "execution_count": 11,
   "metadata": {},
   "outputs": [
    {
     "name": "stdout",
     "output_type": "stream",
     "text": [
      "\n",
      "Frequency of Categories for varible CLIENTNUM\n",
      "780097533    1\n",
      "720049083    1\n",
      "717376758    1\n",
      "720598308    1\n",
      "719930658    1\n",
      "            ..\n",
      "818987958    1\n",
      "808753758    1\n",
      "789347133    1\n",
      "806189658    1\n",
      "713594883    1\n",
      "Name: CLIENTNUM, Length: 10127, dtype: int64\n",
      "\n",
      "Frequency of Categories for varible Attrition_Flag\n",
      "Existing Customer    8500\n",
      "Attrited Customer    1627\n",
      "Name: Attrition_Flag, dtype: int64\n",
      "\n",
      "Frequency of Categories for varible Customer_Age\n",
      "44    500\n",
      "49    495\n",
      "46    490\n",
      "45    486\n",
      "47    479\n",
      "43    473\n",
      "48    472\n",
      "50    452\n",
      "42    426\n",
      "51    398\n",
      "53    387\n",
      "41    379\n",
      "52    376\n",
      "40    361\n",
      "39    333\n",
      "54    307\n",
      "38    303\n",
      "55    279\n",
      "56    262\n",
      "37    260\n",
      "57    223\n",
      "36    221\n",
      "35    184\n",
      "59    157\n",
      "58    157\n",
      "34    146\n",
      "60    127\n",
      "33    127\n",
      "32    106\n",
      "65    101\n",
      "61     93\n",
      "62     93\n",
      "31     91\n",
      "26     78\n",
      "30     70\n",
      "63     65\n",
      "29     56\n",
      "64     43\n",
      "27     32\n",
      "28     29\n",
      "67      4\n",
      "66      2\n",
      "68      2\n",
      "73      1\n",
      "70      1\n",
      "Name: Customer_Age, dtype: int64\n",
      "\n",
      "Frequency of Categories for varible Gender\n",
      "F    5358\n",
      "M    4769\n",
      "Name: Gender, dtype: int64\n",
      "\n",
      "Frequency of Categories for varible Dependent_count\n",
      "3    2732\n",
      "2    2655\n",
      "1    1838\n",
      "4    1574\n",
      "0     904\n",
      "5     424\n",
      "Name: Dependent_count, dtype: int64\n",
      "\n",
      "Frequency of Categories for varible Education_Level\n",
      "Graduate         3128\n",
      "High School      2013\n",
      "Unknown          1519\n",
      "Uneducated       1487\n",
      "College          1013\n",
      "Post-Graduate     516\n",
      "Doctorate         451\n",
      "Name: Education_Level, dtype: int64\n",
      "\n",
      "Frequency of Categories for varible Marital_Status\n",
      "Married     4687\n",
      "Single      3943\n",
      "Unknown      749\n",
      "Divorced     748\n",
      "Name: Marital_Status, dtype: int64\n",
      "\n",
      "Frequency of Categories for varible Income_Category\n",
      "Less than $40K    3561\n",
      "$40K - $60K       1790\n",
      "$80K - $120K      1535\n",
      "$60K - $80K       1402\n",
      "Unknown           1112\n",
      "$120K +            727\n",
      "Name: Income_Category, dtype: int64\n",
      "\n",
      "Frequency of Categories for varible Card_Category\n",
      "Blue        9436\n",
      "Silver       555\n",
      "Gold         116\n",
      "Platinum      20\n",
      "Name: Card_Category, dtype: int64\n",
      "\n",
      "Frequency of Categories for varible Months_on_book\n",
      " 3.600000e+01    2417\n",
      " 3.700000e+01     358\n",
      " 3.400000e+01     351\n",
      " 3.800000e+01     347\n",
      " 3.900000e+01     341\n",
      " 4.000000e+01     333\n",
      " 3.100000e+01     318\n",
      " 3.500000e+01     314\n",
      " 3.300000e+01     304\n",
      " 3.000000e+01     300\n",
      " 4.100000e+01     297\n",
      " 3.200000e+01     289\n",
      " 2.800000e+01     275\n",
      " 4.300000e+01     273\n",
      " 4.200000e+01     271\n",
      " 2.900000e+01     241\n",
      " 4.400000e+01     230\n",
      " 4.500000e+01     227\n",
      " 2.700000e+01     206\n",
      " 4.600000e+01     197\n",
      " 2.600000e+01     186\n",
      " 4.700000e+01     171\n",
      " 2.500000e+01     165\n",
      " 4.800000e+01     162\n",
      " 2.400000e+01     160\n",
      " 4.900000e+01     141\n",
      " 2.300000e+01     116\n",
      " 2.200000e+01     105\n",
      " 5.600000e+01     103\n",
      " 5.000000e+01      96\n",
      " 2.100000e+01      83\n",
      " 5.100000e+01      80\n",
      " 5.300000e+01      78\n",
      " 2.000000e+01      74\n",
      " 1.300000e+01      70\n",
      " 1.900000e+01      63\n",
      " 5.200000e+01      62\n",
      " 1.800000e+01      58\n",
      " 5.400000e+01      53\n",
      " 5.500000e+01      42\n",
      " 2.147484e+09      39\n",
      " 1.700000e+01      39\n",
      " 1.500000e+01      34\n",
      " 1.600000e+01      29\n",
      " 1.400000e+01      16\n",
      "-2.147484e+09      12\n",
      " 3.210000e+11       1\n",
      "Name: Months_on_book, dtype: int64\n",
      "\n",
      "Frequency of Categories for varible Total_Relationship_Count\n",
      "3    2305\n",
      "4    1912\n",
      "5    1891\n",
      "6    1866\n",
      "2    1243\n",
      "1     910\n",
      "Name: Total_Relationship_Count, dtype: int64\n",
      "\n",
      "Frequency of Categories for varible Months_Inactive_12_mon\n",
      "3    3846\n",
      "2    3282\n",
      "1    2233\n",
      "4     435\n",
      "5     178\n",
      "6     124\n",
      "0      29\n",
      "Name: Months_Inactive_12_mon, dtype: int64\n",
      "\n",
      "Frequency of Categories for varible Contacts_Count_12_mon\n",
      "3    3380\n",
      "2    3227\n",
      "1    1499\n",
      "4    1392\n",
      "0     399\n",
      "5     176\n",
      "6      54\n",
      "Name: Contacts_Count_12_mon, dtype: int64\n",
      "\n",
      "Frequency of Categories for varible Credit_Limit\n",
      "34516.0    508\n",
      "1438.3     507\n",
      "15987.0     18\n",
      "9959.0      18\n",
      "23981.0     12\n",
      "          ... \n",
      "3891.0       1\n",
      "19354.0      1\n",
      "34427.0      1\n",
      "14527.0      1\n",
      "8206.0       1\n",
      "Name: Credit_Limit, Length: 6205, dtype: int64\n",
      "\n",
      "Frequency of Categories for varible Total_Revolving_Bal\n",
      "0       2470\n",
      "2517     508\n",
      "1965      12\n",
      "1480      12\n",
      "1720      11\n",
      "        ... \n",
      "1401       1\n",
      "2293       1\n",
      "2172       1\n",
      "2040       1\n",
      "204        1\n",
      "Name: Total_Revolving_Bal, Length: 1974, dtype: int64\n",
      "\n",
      "Frequency of Categories for varible Avg_Open_To_Buy\n",
      "1438.3     324\n",
      "34516.0     98\n",
      "31999.0     26\n",
      "787.0        8\n",
      "953.0        7\n",
      "          ... \n",
      "2214.0       1\n",
      "4458.0       1\n",
      "8013.0       1\n",
      "33398.0      1\n",
      "4117.0       1\n",
      "Name: Avg_Open_To_Buy, Length: 6813, dtype: int64\n",
      "\n",
      "Frequency of Categories for varible Total_Amt_Chng_Q4_Q1\n",
      "0.791    36\n",
      "0.743    34\n",
      "0.712    34\n",
      "0.735    33\n",
      "0.718    33\n",
      "         ..\n",
      "0.330     1\n",
      "1.252     1\n",
      "2.271     1\n",
      "0.175     1\n",
      "1.750     1\n",
      "Name: Total_Amt_Chng_Q4_Q1, Length: 1158, dtype: int64\n",
      "\n",
      "Frequency of Categories for varible Total_Trans_Amt\n",
      "4253     11\n",
      "4509     11\n",
      "2229     10\n",
      "4518     10\n",
      "4869      9\n",
      "         ..\n",
      "1810      1\n",
      "8257      1\n",
      "14402     1\n",
      "2174      1\n",
      "10294     1\n",
      "Name: Total_Trans_Amt, Length: 5033, dtype: int64\n",
      "\n",
      "Frequency of Categories for varible Total_Trans_Ct\n",
      "81     208\n",
      "75     203\n",
      "71     203\n",
      "82     202\n",
      "69     202\n",
      "      ... \n",
      "11       2\n",
      "138      1\n",
      "139      1\n",
      "132      1\n",
      "134      1\n",
      "Name: Total_Trans_Ct, Length: 126, dtype: int64\n",
      "\n",
      "Frequency of Categories for varible Total_Ct_Chng_Q4_Q1\n",
      "0.667    171\n",
      "1.000    166\n",
      "0.500    161\n",
      "0.750    156\n",
      "0.600    113\n",
      "        ... \n",
      "1.476      1\n",
      "0.119      1\n",
      "1.161      1\n",
      "1.093      1\n",
      "1.533      1\n",
      "Name: Total_Ct_Chng_Q4_Q1, Length: 830, dtype: int64\n",
      "\n",
      "Frequency of Categories for varible Avg_Utilization_Ratio\n",
      "0.000    2470\n",
      "0.073      44\n",
      "0.057      33\n",
      "0.048      32\n",
      "0.060      30\n",
      "         ... \n",
      "0.929       1\n",
      "0.874       1\n",
      "0.995       1\n",
      "0.011       1\n",
      "0.985       1\n",
      "Name: Avg_Utilization_Ratio, Length: 964, dtype: int64\n"
     ]
    }
   ],
   "source": [
    "for col in dataset.columns:\n",
    "    print ('\\nFrequency of Categories for varible %s'%col)\n",
    "    print (dataset[col].value_counts())"
   ]
  },
  {
   "cell_type": "code",
   "execution_count": 12,
   "metadata": {},
   "outputs": [],
   "source": [
    "# Drop the column CLIENTNUM                   \n",
    "dataset = dataset.drop([\"CLIENTNUM\"], axis = 1)"
   ]
  },
  {
   "cell_type": "code",
   "execution_count": 13,
   "metadata": {},
   "outputs": [
    {
     "name": "stdout",
     "output_type": "stream",
     "text": [
      "Numeric columns\n",
      "Customer_Age\n",
      "Dependent_count\n",
      "Months_on_book\n",
      "Total_Relationship_Count\n",
      "Months_Inactive_12_mon\n",
      "Contacts_Count_12_mon\n",
      "Credit_Limit\n",
      "Total_Revolving_Bal\n",
      "Avg_Open_To_Buy\n",
      "Total_Amt_Chng_Q4_Q1\n",
      "Total_Trans_Amt\n",
      "Total_Trans_Ct\n",
      "Total_Ct_Chng_Q4_Q1\n",
      "Avg_Utilization_Ratio\n",
      "----------------------------------\n",
      "Category columns\n",
      "Attrition_Flag\n",
      "Gender\n",
      "Education_Level\n",
      "Marital_Status\n",
      "Income_Category\n",
      "Card_Category\n"
     ]
    }
   ],
   "source": [
    "# Check variable data types\n",
    "\n",
    "from pandas.api.types import is_string_dtype\n",
    "from pandas.api.types import is_numeric_dtype\n",
    "\n",
    "\n",
    "print(\"Numeric columns\")\n",
    "for column in dataset.columns:\n",
    "    if is_numeric_dtype(dataset[column]):\n",
    "        print(column)\n",
    "print(\"----------------------------------\")        \n",
    "print(\"Category columns\")        \n",
    "for column in dataset.columns:\n",
    "    if is_string_dtype(dataset[column]):\n",
    "        print(column)"
   ]
  },
  {
   "cell_type": "code",
   "execution_count": 14,
   "metadata": {},
   "outputs": [
    {
     "name": "stdout",
     "output_type": "stream",
     "text": [
      "['Attrition_Flag', 'Gender', 'Education_Level', 'Marital_Status', 'Income_Category', 'Card_Category']\n",
      "['Customer_Age', 'Dependent_count', 'Months_on_book', 'Total_Relationship_Count', 'Months_Inactive_12_mon', 'Contacts_Count_12_mon', 'Credit_Limit', 'Total_Revolving_Bal', 'Avg_Open_To_Buy', 'Total_Amt_Chng_Q4_Q1', 'Total_Trans_Amt', 'Total_Trans_Ct', 'Total_Ct_Chng_Q4_Q1', 'Avg_Utilization_Ratio']\n"
     ]
    }
   ],
   "source": [
    "categorical_columns = [x for x in dataset.dtypes.index if dataset.dtypes[x]=='object']\n",
    "numeric_columns=[x for x in dataset.dtypes.index if is_numeric_dtype(dataset[x])]\n",
    "\n",
    "print (categorical_columns)\n",
    "print(numeric_columns)"
   ]
  },
  {
   "cell_type": "code",
   "execution_count": 15,
   "metadata": {},
   "outputs": [
    {
     "data": {
      "text/plain": [
       "Text(0, 0.5, 'Frequency')"
      ]
     },
     "execution_count": 15,
     "metadata": {},
     "output_type": "execute_result"
    },
    {
     "data": {
      "image/png": "[encoded data removed]",
      "text/plain": [
       "<Figure size 432x288 with 1 Axes>"
      ]
     },
     "metadata": {
      "needs_background": "light"
     },
     "output_type": "display_data"
    }
   ],
   "source": [
    "# class  Frequency\n",
    "\n",
    "labels = ['Existing Customer','Attrited Customer']\n",
    "classes = pd.value_counts(dataset['Attrition_Flag'], sort = True)\n",
    "classes.plot(kind = 'bar', rot=0)\n",
    "plt.title(\"Attrition_Flag class distribution\")\n",
    "plt.xticks(range(2), labels)\n",
    "plt.xlabel(\"Class\")\n",
    "plt.ylabel(\"Frequency\")"
   ]
  },
  {
   "cell_type": "code",
   "execution_count": null,
   "metadata": {},
   "outputs": [],
   "source": [
    "#SMOTE-Unbalanced dataset"
   ]
  },
  {
   "cell_type": "code",
   "execution_count": 16,
   "metadata": {},
   "outputs": [
    {
     "data": {
      "text/plain": [
       "<AxesSubplot:>"
      ]
     },
     "execution_count": 16,
     "metadata": {},
     "output_type": "execute_result"
    },
    {
     "data": {
      "image/png": "[encoded data removed]",
      "text/plain": [
       "<Figure size 432x288 with 1 Axes>"
      ]
     },
     "metadata": {
      "needs_background": "light"
     },
     "output_type": "display_data"
    }
   ],
   "source": [
    "# distribution of Customer_Age\n",
    "age = [dataset['Customer_Age'].values]\n",
    "sns.distplot(age)"
   ]
  },
  {
   "cell_type": "code",
   "execution_count": 17,
   "metadata": {},
   "outputs": [
    {
     "data": {
      "text/plain": [
       "<AxesSubplot:>"
      ]
     },
     "execution_count": 17,
     "metadata": {},
     "output_type": "execute_result"
    },
    {
     "data": {
      "image/png": "[encoded data removed]",
      "text/plain": [
       "<Figure size 432x288 with 1 Axes>"
      ]
     },
     "metadata": {
      "needs_background": "light"
     },
     "output_type": "display_data"
    }
   ],
   "source": [
    "# distribution of Dependent_count\n",
    "Dependent_count = [dataset['Dependent_count'].values]\n",
    "sns.distplot(Dependent_count)"
   ]
  },
  {
   "cell_type": "code",
   "execution_count": 18,
   "metadata": {},
   "outputs": [
    {
     "name": "stdout",
     "output_type": "stream",
     "text": [
      "['Customer_Age', 'Dependent_count', 'Months_on_book', 'Total_Relationship_Count', 'Months_Inactive_12_mon', 'Contacts_Count_12_mon', 'Credit_Limit', 'Total_Revolving_Bal', 'Avg_Open_To_Buy', 'Total_Amt_Chng_Q4_Q1', 'Total_Trans_Amt', 'Total_Trans_Ct', 'Total_Ct_Chng_Q4_Q1', 'Avg_Utilization_Ratio']\n"
     ]
    }
   ],
   "source": [
    "print(numeric_columns)"
   ]
  },
  {
   "cell_type": "code",
   "execution_count": 100,
   "metadata": {},
   "outputs": [],
   "source": [
    "#for n_f in numeric_columns: \n",
    "   # plt.figure()\n",
    "    #plt.title(n_f)\n",
    "    #ax = sns.distplot(dataset[numeric_columns])"
   ]
  },
  {
   "cell_type": "code",
   "execution_count": 19,
   "metadata": {},
   "outputs": [
    {
     "data": {
      "text/plain": [
       "<AxesSubplot:>"
      ]
     },
     "execution_count": 19,
     "metadata": {},
     "output_type": "execute_result"
    },
    {
     "data": {
      "image/png": "[encoded data removed]",
      "text/plain": [
       "<Figure size 432x288 with 1 Axes>"
      ]
     },
     "metadata": {
      "needs_background": "light"
     },
     "output_type": "display_data"
    }
   ],
   "source": [
    "# distribution of Total_Trans_Ct\n",
    "Total_Trans_Ct = [dataset['Total_Trans_Ct'].values]\n",
    "sns.distplot(Total_Trans_Ct)"
   ]
  },
  {
   "cell_type": "code",
   "execution_count": 20,
   "metadata": {},
   "outputs": [
    {
     "data": {
      "text/plain": [
       "<AxesSubplot:>"
      ]
     },
     "execution_count": 20,
     "metadata": {},
     "output_type": "execute_result"
    },
    {
     "data": {
      "image/png": "[encoded data removed]",
      "text/plain": [
       "<Figure size 432x288 with 1 Axes>"
      ]
     },
     "metadata": {
      "needs_background": "light"
     },
     "output_type": "display_data"
    }
   ],
   "source": [
    "# distribution of Credit_Limit\n",
    "Credit_Limit = [dataset['Credit_Limit'].values]\n",
    "sns.distplot(Credit_Limit)"
   ]
  },
  {
   "cell_type": "code",
   "execution_count": 21,
   "metadata": {},
   "outputs": [
    {
     "data": {
      "text/plain": [
       "<AxesSubplot:>"
      ]
     },
     "execution_count": 21,
     "metadata": {},
     "output_type": "execute_result"
    },
    {
     "data": {
      "image/png": "[encoded data removed]",
      "text/plain": [
       "<Figure size 432x288 with 1 Axes>"
      ]
     },
     "metadata": {
      "needs_background": "light"
     },
     "output_type": "display_data"
    }
   ],
   "source": [
    "# distribution of Total_Relationship_Count\n",
    "Total_Relationship_Count = [dataset['Total_Relationship_Count'].values]\n",
    "sns.distplot(Total_Relationship_Count)"
   ]
  },
  {
   "cell_type": "code",
   "execution_count": 22,
   "metadata": {},
   "outputs": [
    {
     "data": {
      "text/plain": [
       "<AxesSubplot:>"
      ]
     },
     "execution_count": 22,
     "metadata": {},
     "output_type": "execute_result"
    },
    {
     "data": {
      "image/png": "[encoded data removed]",
      "text/plain": [
       "<Figure size 432x288 with 1 Axes>"
      ]
     },
     "metadata": {
      "needs_background": "light"
     },
     "output_type": "display_data"
    }
   ],
   "source": [
    "# distribution of Months_on_book\n",
    "Months_on_book = [dataset['Months_on_book'].values]\n",
    "sns.distplot(Months_on_book)\n",
    "#Outliers"
   ]
  },
  {
   "cell_type": "code",
   "execution_count": 23,
   "metadata": {},
   "outputs": [
    {
     "data": {
      "text/plain": [
       "<AxesSubplot:>"
      ]
     },
     "execution_count": 23,
     "metadata": {},
     "output_type": "execute_result"
    },
    {
     "data": {
      "image/png": "[encoded data removed]",
      "text/plain": [
       "<Figure size 432x288 with 1 Axes>"
      ]
     },
     "metadata": {
      "needs_background": "light"
     },
     "output_type": "display_data"
    }
   ],
   "source": [
    "# distribution of Avg_Utilization_Ratio-\n",
    "Avg_Utilization_Ratio = [dataset['Avg_Utilization_Ratio'].values]\n",
    "sns.distplot(Avg_Utilization_Ratio)"
   ]
  },
  {
   "cell_type": "code",
   "execution_count": 24,
   "metadata": {},
   "outputs": [
    {
     "data": {
      "text/plain": [
       "<AxesSubplot:>"
      ]
     },
     "execution_count": 24,
     "metadata": {},
     "output_type": "execute_result"
    },
    {
     "data": {
      "image/png": "[encoded data removed]",
      "text/plain": [
       "<Figure size 432x288 with 1 Axes>"
      ]
     },
     "metadata": {
      "needs_background": "light"
     },
     "output_type": "display_data"
    }
   ],
   "source": [
    "# distribution of Total_Revolving_Bal-\n",
    "Total_Revolving_Bal = [dataset['Total_Revolving_Bal'].values]\n",
    "sns.distplot(Total_Revolving_Bal)\n"
   ]
  },
  {
   "cell_type": "code",
   "execution_count": 25,
   "metadata": {},
   "outputs": [
    {
     "data": {
      "image/png": "[encoded data removed]",
      "text/plain": [
       "<Figure size 432x288 with 1 Axes>"
      ]
     },
     "metadata": {},
     "output_type": "display_data"
    }
   ],
   "source": [
    "%matplotlib inline\n",
    "sns.set(style=\"darkgrid\")\n",
    "ax = sns.countplot(x=\"Gender\", hue=\"Attrition_Flag\", data=dataset)\n",
    "plt.show()\n",
    "#Female has a higher proportion of attrition compared to males."
   ]
  },
  {
   "cell_type": "code",
   "execution_count": 26,
   "metadata": {},
   "outputs": [
    {
     "data": {
      "image/png": "[encoded data removed]",
      "text/plain": [
       "<Figure size 720x360 with 1 Axes>"
      ]
     },
     "metadata": {},
     "output_type": "display_data"
    }
   ],
   "source": [
    "%matplotlib inline\n",
    "sns.set(style=\"darkgrid\")\n",
    "plt.figure(figsize=(10,5))\n",
    "ax = sns.countplot(x=\"Education_Level\", hue=\"Attrition_Flag\", data=dataset)\n",
    "plt.show()"
   ]
  },
  {
   "cell_type": "code",
   "execution_count": 27,
   "metadata": {},
   "outputs": [
    {
     "data": {
      "image/png": "[encoded data removed]",
      "text/plain": [
       "<Figure size 432x288 with 1 Axes>"
      ]
     },
     "metadata": {},
     "output_type": "display_data"
    }
   ],
   "source": [
    "%matplotlib inline\n",
    "sns.set(style=\"darkgrid\")\n",
    "ax = sns.countplot(x=\"Card_Category\", hue=\"Attrition_Flag\", data=dataset)\n",
    "plt.show()\n",
    "#Majority of the data in Card_category is using Blue Card"
   ]
  },
  {
   "cell_type": "code",
   "execution_count": 28,
   "metadata": {},
   "outputs": [
    {
     "data": {
      "image/png": "[encoded data removed]",
      "text/plain": [
       "<Figure size 432x288 with 1 Axes>"
      ]
     },
     "metadata": {},
     "output_type": "display_data"
    }
   ],
   "source": [
    "%matplotlib inline\n",
    "sns.set(style=\"darkgrid\")\n",
    "ax = sns.countplot(x=\"Months_Inactive_12_mon\", hue=\"Attrition_Flag\", data=dataset)\n",
    "plt.show()\n",
    "#Majority of the clients who abandoned the Bank were inactive 2-3 months"
   ]
  },
  {
   "cell_type": "code",
   "execution_count": 29,
   "metadata": {},
   "outputs": [
    {
     "data": {
      "image/png": "[encoded data removed]",
      "text/plain": [
       "<Figure size 432x288 with 1 Axes>"
      ]
     },
     "metadata": {},
     "output_type": "display_data"
    }
   ],
   "source": [
    "%matplotlib inline\n",
    "sns.set(style=\"darkgrid\")\n",
    "ax = sns.countplot(x=\"Total_Relationship_Count\", hue=\"Attrition_Flag\", data=dataset)\n",
    "plt.show()\n",
    "#Somehow the clients who held more products stayed in the Bank??"
   ]
  },
  {
   "cell_type": "code",
   "execution_count": 30,
   "metadata": {},
   "outputs": [
    {
     "data": {
      "image/png": "[encoded data removed]",
      "text/plain": [
       "<Figure size 720x360 with 1 Axes>"
      ]
     },
     "metadata": {},
     "output_type": "display_data"
    }
   ],
   "source": [
    "%matplotlib inline\n",
    "sns.set(style=\"darkgrid\")\n",
    "plt.figure(figsize=(10,5))\n",
    "ax = sns.countplot(x=\"Income_Category\", hue=\"Attrition_Flag\", data=dataset)\n",
    "plt.show()"
   ]
  },
  {
   "cell_type": "code",
   "execution_count": 31,
   "metadata": {},
   "outputs": [
    {
     "data": {
      "image/png": "[encoded data removed]",
      "text/plain": [
       "<Figure size 432x288 with 1 Axes>"
      ]
     },
     "metadata": {},
     "output_type": "display_data"
    }
   ],
   "source": [
    "%matplotlib inline\n",
    "sns.set(style=\"darkgrid\")\n",
    "#plt.figure(figsize=(10,5))\n",
    "ax = sns.countplot(x=\"Marital_Status\", hue=\"Attrition_Flag\", data=dataset)\n",
    "plt.show()\n",
    "#Majority of the dataset is Married or Single, so is the clients who leaved"
   ]
  },
  {
   "cell_type": "code",
   "execution_count": 32,
   "metadata": {},
   "outputs": [
    {
     "data": {
      "text/html": [
       "<div>\n",
       "<style scoped>\n",
       "    .dataframe tbody tr th:only-of-type {\n",
       "        vertical-align: middle;\n",
       "    }\n",
       "\n",
       "    .dataframe tbody tr th {\n",
       "        vertical-align: top;\n",
       "    }\n",
       "\n",
       "    .dataframe thead th {\n",
       "        text-align: right;\n",
       "    }\n",
       "</style>\n",
       "<table border=\"1\" class=\"dataframe\">\n",
       "  <thead>\n",
       "    <tr style=\"text-align: right;\">\n",
       "      <th></th>\n",
       "      <th>skew</th>\n",
       "    </tr>\n",
       "  </thead>\n",
       "  <tbody>\n",
       "    <tr>\n",
       "      <th>Months_on_book</th>\n",
       "      <td>100.290596</td>\n",
       "    </tr>\n",
       "    <tr>\n",
       "      <th>Total_Ct_Chng_Q4_Q1</th>\n",
       "      <td>2.064031</td>\n",
       "    </tr>\n",
       "    <tr>\n",
       "      <th>Total_Trans_Amt</th>\n",
       "      <td>2.041003</td>\n",
       "    </tr>\n",
       "    <tr>\n",
       "      <th>Total_Amt_Chng_Q4_Q1</th>\n",
       "      <td>1.732063</td>\n",
       "    </tr>\n",
       "    <tr>\n",
       "      <th>Credit_Limit</th>\n",
       "      <td>1.666726</td>\n",
       "    </tr>\n",
       "    <tr>\n",
       "      <th>Avg_Open_To_Buy</th>\n",
       "      <td>1.661697</td>\n",
       "    </tr>\n",
       "    <tr>\n",
       "      <th>Avg_Utilization_Ratio</th>\n",
       "      <td>0.718008</td>\n",
       "    </tr>\n",
       "    <tr>\n",
       "      <th>Months_Inactive_12_mon</th>\n",
       "      <td>0.633061</td>\n",
       "    </tr>\n",
       "    <tr>\n",
       "      <th>Total_Trans_Ct</th>\n",
       "      <td>0.153673</td>\n",
       "    </tr>\n",
       "    <tr>\n",
       "      <th>Contacts_Count_12_mon</th>\n",
       "      <td>0.011006</td>\n",
       "    </tr>\n",
       "    <tr>\n",
       "      <th>Dependent_count</th>\n",
       "      <td>-0.020826</td>\n",
       "    </tr>\n",
       "    <tr>\n",
       "      <th>Customer_Age</th>\n",
       "      <td>-0.033605</td>\n",
       "    </tr>\n",
       "    <tr>\n",
       "      <th>Total_Revolving_Bal</th>\n",
       "      <td>-0.148837</td>\n",
       "    </tr>\n",
       "    <tr>\n",
       "      <th>Total_Relationship_Count</th>\n",
       "      <td>-0.162452</td>\n",
       "    </tr>\n",
       "  </tbody>\n",
       "</table>\n",
       "</div>"
      ],
      "text/plain": [
       "                                skew\n",
       "Months_on_book            100.290596\n",
       "Total_Ct_Chng_Q4_Q1         2.064031\n",
       "Total_Trans_Amt             2.041003\n",
       "Total_Amt_Chng_Q4_Q1        1.732063\n",
       "Credit_Limit                1.666726\n",
       "Avg_Open_To_Buy             1.661697\n",
       "Avg_Utilization_Ratio       0.718008\n",
       "Months_Inactive_12_mon      0.633061\n",
       "Total_Trans_Ct              0.153673\n",
       "Contacts_Count_12_mon       0.011006\n",
       "Dependent_count            -0.020826\n",
       "Customer_Age               -0.033605\n",
       "Total_Revolving_Bal        -0.148837\n",
       "Total_Relationship_Count   -0.162452"
      ]
     },
     "execution_count": 32,
     "metadata": {},
     "output_type": "execute_result"
    }
   ],
   "source": [
    "#calculate skew and sort\n",
    "#The coefficient of skewness is a measure of asymmetry in the distribution.\n",
    "#A positive skew indicates a longer tail to the right, while a negative skew indicates a longer tail to the left.\n",
    "#A perfectly symmetric distribution, like the normal distribution, has a skew equal to zero.\n",
    "\n",
    "skew_feats=dataset[numeric_columns].skew().sort_values(ascending=False)\n",
    "skewness=pd.DataFrame({'skew':skew_feats})\n",
    "skewness"
   ]
  },
  {
   "cell_type": "code",
   "execution_count": null,
   "metadata": {},
   "outputs": [],
   "source": [
    "#Encoding\n",
    "#Normalization"
   ]
  },
  {
   "cell_type": "code",
   "execution_count": 87,
   "metadata": {},
   "outputs": [],
   "source": [
    "# heat map of correlation of features\n",
    "#correlation_matrix = dataset.corr()\n",
    "#fig = plt.figure(figsize=(15,10))\n",
    "#sns.heatmap(correlation_matrix,vmax=0.8,square = True)\n",
    "#plt.show()"
   ]
  },
  {
   "cell_type": "code",
   "execution_count": null,
   "metadata": {},
   "outputs": [],
   "source": []
  }
 ],
 "metadata": {
  "kernelspec": {
   "display_name": "Python 3",
   "language": "python",
   "name": "python3"
  },
  "language_info": {
   "codemirror_mode": {
    "name": "ipython",
    "version": 3
   },
   "file_extension": ".py",
   "mimetype": "text/x-python",
   "name": "python",
   "nbconvert_exporter": "python",
   "pygments_lexer": "ipython3",
   "version": "3.7.6"
  }
 },
 "nbformat": 4,
 "nbformat_minor": 4
}
