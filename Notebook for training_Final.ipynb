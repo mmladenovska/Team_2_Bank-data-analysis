{
 "cells": [
  {
   "cell_type": "markdown",
   "metadata": {
    "id": "RarNoE4PSXyr"
   },
   "source": [
    "# Bank data analysis\n",
    "\n",
    "The goal of your project is to create a robust classifier and use the data, where you will build a model that will recognize whether specific client will leave/unsubscribe the bank services.\n",
    "Make feature engineering but also try differnet models in order to get as much accuracy as possible.\n",
    "\n",
    "\n",
    "\n",
    "\n",
    "    "
   ]
  },
  {
   "cell_type": "markdown",
   "metadata": {
    "id": "u823cXPI0QNc"
   },
   "source": [
    "# Working Plan\n",
    "\n",
    "\n",
    "\n",
    "1. Phase 1 : Dataset\n",
    "    * Team Planning\n",
    "    * Full git project Integration\n",
    "    * General Project Research\n",
    "    * Dataset Preparation\n",
    "    * Dataset Feature Engineering\n",
    "\n",
    "2. Phase 2 : Training\n",
    "    * Make Research about your model\n",
    "    * Compose your model (try different models) \n",
    "    * Ping Pong phase with Dataset feature engineers\n",
    "    * Generate more data if needed\n",
    "    * Fine tunning of your model\n",
    "\n",
    "3. Phase 3 : Deployment\n",
    "    * Perform benchmark (precision/recall), ROC curve\n",
    "    * Model Deploy (Git)\n",
    "    * Write git Readme.md file\n",
    "    * Receive Feedback from PM"
   ]
  },
  {
   "cell_type": "markdown",
   "metadata": {
    "id": "vIGo_fGNSXys"
   },
   "source": [
    "## 0. Read data, visualize, basic statistics, understand it"
   ]
  },
  {
   "cell_type": "markdown",
   "metadata": {},
   "source": [
    "#### Import relevant libraries"
   ]
  },
  {
   "cell_type": "code",
   "execution_count": 1,
   "metadata": {
    "id": "Xj5WSaLYSXys"
   },
   "outputs": [],
   "source": [
    "# Standard libraries for data analysis (Pandas,Numpy and sklearn package):\n",
    "\n",
    "import pandas as pd\n",
    "from numpy import nan\n",
    "import numpy as np\n",
    "import sklearn\n",
    "import pickle"
   ]
  },
  {
   "cell_type": "code",
   "execution_count": 2,
   "metadata": {},
   "outputs": [],
   "source": [
    "import warnings\n",
    "warnings.filterwarnings('ignore')"
   ]
  },
  {
   "cell_type": "code",
   "execution_count": 3,
   "metadata": {},
   "outputs": [],
   "source": [
    "#!pip install seaborn\n",
    "#!pip3 install xgboost\n",
    "#!pip install TPOT\n",
    "import seaborn as sns\n",
    "#print(sns.__version__)\n",
    "#import warnings\n",
    "#warnings.filterwarnings('ignore')\n"
   ]
  },
  {
   "cell_type": "code",
   "execution_count": 4,
   "metadata": {},
   "outputs": [],
   "source": [
    "# sklearn libraries\n",
    "\n",
    "# sklearn modules for data preprocessing:\n",
    "\n",
    "from sklearn.impute import SimpleImputer\n",
    "from sklearn.preprocessing import LabelEncoder, OneHotEncoder\n",
    "from sklearn.compose import ColumnTransformer\n",
    "from sklearn.model_selection import train_test_split\n",
    "from sklearn.preprocessing import StandardScaler\n",
    "from sklearn.preprocessing import normalize\n",
    "from sklearn.neighbors import LocalOutlierFactor\n",
    "from sklearn.decomposition import PCA\n",
    "\n",
    "\n",
    "#sklearn modules for Model Selection:\n",
    "\n",
    "from sklearn import svm, tree, linear_model, neighbors\n",
    "from sklearn import naive_bayes, ensemble, discriminant_analysis, gaussian_process\n",
    "from xgboost import XGBClassifier\n",
    "from sklearn.neighbors import KNeighborsClassifier\n",
    "from sklearn.naive_bayes import GaussianNB\n",
    "from sklearn.tree import DecisionTreeClassifier\n",
    "from sklearn.ensemble import RandomForestClassifier\n",
    "from sklearn.discriminant_analysis import LinearDiscriminantAnalysis\n",
    "from sklearn.linear_model import LogisticRegression\n",
    "from sklearn.svm import SVC\n",
    "\n",
    "\n",
    "#sklearn modules for Model Evaluation & Improvement:\n",
    "    \n",
    "from sklearn.metrics import confusion_matrix, accuracy_score \n",
    "from sklearn.metrics import f1_score, precision_score, recall_score, fbeta_score\n",
    "from statsmodels.stats.outliers_influence import variance_inflation_factor\n",
    "from sklearn.model_selection import cross_val_score\n",
    "from sklearn.model_selection import cross_validate\n",
    "from sklearn.model_selection import cross_val_predict\n",
    "from sklearn.model_selection import GridSearchCV\n",
    "from sklearn.model_selection import RandomizedSearchCV\n",
    "from sklearn.model_selection import ShuffleSplit\n",
    "from sklearn.model_selection import KFold\n",
    "from sklearn.model_selection import StratifiedKFold\n",
    "from sklearn import feature_selection\n",
    "from sklearn import model_selection\n",
    "from sklearn import metrics\n",
    "from sklearn.metrics import classification_report, precision_recall_curve\n",
    "from sklearn.metrics import auc, roc_auc_score, roc_curve\n",
    "from sklearn.metrics import make_scorer, recall_score, log_loss\n",
    "from sklearn.metrics import average_precision_score\n"
   ]
  },
  {
   "cell_type": "code",
   "execution_count": 5,
   "metadata": {},
   "outputs": [],
   "source": [
    "# Visual libraries\n",
    "\n",
    "#Standard libraries for data visualization:\n",
    "\n",
    "import seaborn as sns\n",
    "from matplotlib import pyplot as plt\n",
    "import matplotlib.pylab as pylab\n",
    "import matplotlib \n",
    "%matplotlib inline\n",
    "color = sns.color_palette()\n",
    "import matplotlib.ticker as mtick\n",
    "from IPython.display import display\n",
    "from pandas.plotting import scatter_matrix\n",
    "from sklearn.metrics import roc_curve\n",
    "\n",
    " \n"
   ]
  },
  {
   "cell_type": "markdown",
   "metadata": {},
   "source": [
    "#### Import the dataset"
   ]
  },
  {
   "cell_type": "code",
   "execution_count": 6,
   "metadata": {},
   "outputs": [],
   "source": [
    "# Import Bank Dataset \n",
    "dataset = pd.read_csv(\"dataset_bank.csv\")\n"
   ]
  },
  {
   "cell_type": "markdown",
   "metadata": {},
   "source": [
    "#### Evaluate data structure"
   ]
  },
  {
   "cell_type": "code",
   "execution_count": 7,
   "metadata": {},
   "outputs": [
    {
     "data": {
      "text/html": [
       "<div>\n",
       "<style scoped>\n",
       "    .dataframe tbody tr th:only-of-type {\n",
       "        vertical-align: middle;\n",
       "    }\n",
       "\n",
       "    .dataframe tbody tr th {\n",
       "        vertical-align: top;\n",
       "    }\n",
       "\n",
       "    .dataframe thead th {\n",
       "        text-align: right;\n",
       "    }\n",
       "</style>\n",
       "<table border=\"1\" class=\"dataframe\">\n",
       "  <thead>\n",
       "    <tr style=\"text-align: right;\">\n",
       "      <th></th>\n",
       "      <th>CLIENTNUM</th>\n",
       "      <th>Attrition_Flag</th>\n",
       "      <th>Customer_Age</th>\n",
       "      <th>Gender</th>\n",
       "      <th>Dependent_count</th>\n",
       "      <th>Education_Level</th>\n",
       "      <th>Marital_Status</th>\n",
       "      <th>Income_Category</th>\n",
       "      <th>Card_Category</th>\n",
       "      <th>Months_on_book</th>\n",
       "      <th>...</th>\n",
       "      <th>Months_Inactive_12_mon</th>\n",
       "      <th>Contacts_Count_12_mon</th>\n",
       "      <th>Credit_Limit</th>\n",
       "      <th>Total_Revolving_Bal</th>\n",
       "      <th>Avg_Open_To_Buy</th>\n",
       "      <th>Total_Amt_Chng_Q4_Q1</th>\n",
       "      <th>Total_Trans_Amt</th>\n",
       "      <th>Total_Trans_Ct</th>\n",
       "      <th>Total_Ct_Chng_Q4_Q1</th>\n",
       "      <th>Avg_Utilization_Ratio</th>\n",
       "    </tr>\n",
       "  </thead>\n",
       "  <tbody>\n",
       "    <tr>\n",
       "      <th>0</th>\n",
       "      <td>768805383</td>\n",
       "      <td>Existing Customer</td>\n",
       "      <td>45</td>\n",
       "      <td>M</td>\n",
       "      <td>3</td>\n",
       "      <td>High School</td>\n",
       "      <td>Married</td>\n",
       "      <td>$60K - $80K</td>\n",
       "      <td>Blue</td>\n",
       "      <td>39.0</td>\n",
       "      <td>...</td>\n",
       "      <td>1</td>\n",
       "      <td>3</td>\n",
       "      <td>12691.0</td>\n",
       "      <td>777</td>\n",
       "      <td>11914.0</td>\n",
       "      <td>1.335</td>\n",
       "      <td>1144</td>\n",
       "      <td>42</td>\n",
       "      <td>1.625</td>\n",
       "      <td>0.061</td>\n",
       "    </tr>\n",
       "    <tr>\n",
       "      <th>1</th>\n",
       "      <td>818770008</td>\n",
       "      <td>Existing Customer</td>\n",
       "      <td>49</td>\n",
       "      <td>F</td>\n",
       "      <td>5</td>\n",
       "      <td>Graduate</td>\n",
       "      <td>Single</td>\n",
       "      <td>Less than $40K</td>\n",
       "      <td>Blue</td>\n",
       "      <td>44.0</td>\n",
       "      <td>...</td>\n",
       "      <td>1</td>\n",
       "      <td>2</td>\n",
       "      <td>8256.0</td>\n",
       "      <td>864</td>\n",
       "      <td>7392.0</td>\n",
       "      <td>1.541</td>\n",
       "      <td>1291</td>\n",
       "      <td>33</td>\n",
       "      <td>3.714</td>\n",
       "      <td>0.105</td>\n",
       "    </tr>\n",
       "    <tr>\n",
       "      <th>2</th>\n",
       "      <td>713982108</td>\n",
       "      <td>Existing Customer</td>\n",
       "      <td>51</td>\n",
       "      <td>M</td>\n",
       "      <td>3</td>\n",
       "      <td>Graduate</td>\n",
       "      <td>Married</td>\n",
       "      <td>$80K - $120K</td>\n",
       "      <td>Blue</td>\n",
       "      <td>36.0</td>\n",
       "      <td>...</td>\n",
       "      <td>1</td>\n",
       "      <td>0</td>\n",
       "      <td>3418.0</td>\n",
       "      <td>0</td>\n",
       "      <td>3418.0</td>\n",
       "      <td>2.594</td>\n",
       "      <td>1887</td>\n",
       "      <td>20</td>\n",
       "      <td>2.333</td>\n",
       "      <td>0.000</td>\n",
       "    </tr>\n",
       "    <tr>\n",
       "      <th>3</th>\n",
       "      <td>769911858</td>\n",
       "      <td>Existing Customer</td>\n",
       "      <td>40</td>\n",
       "      <td>F</td>\n",
       "      <td>4</td>\n",
       "      <td>High School</td>\n",
       "      <td>Unknown</td>\n",
       "      <td>Less than $40K</td>\n",
       "      <td>Blue</td>\n",
       "      <td>34.0</td>\n",
       "      <td>...</td>\n",
       "      <td>4</td>\n",
       "      <td>1</td>\n",
       "      <td>3313.0</td>\n",
       "      <td>2517</td>\n",
       "      <td>796.0</td>\n",
       "      <td>1.405</td>\n",
       "      <td>1171</td>\n",
       "      <td>20</td>\n",
       "      <td>2.333</td>\n",
       "      <td>0.760</td>\n",
       "    </tr>\n",
       "    <tr>\n",
       "      <th>4</th>\n",
       "      <td>709106358</td>\n",
       "      <td>Existing Customer</td>\n",
       "      <td>40</td>\n",
       "      <td>M</td>\n",
       "      <td>3</td>\n",
       "      <td>Uneducated</td>\n",
       "      <td>Married</td>\n",
       "      <td>$60K - $80K</td>\n",
       "      <td>Blue</td>\n",
       "      <td>21.0</td>\n",
       "      <td>...</td>\n",
       "      <td>1</td>\n",
       "      <td>0</td>\n",
       "      <td>4716.0</td>\n",
       "      <td>0</td>\n",
       "      <td>4716.0</td>\n",
       "      <td>2.175</td>\n",
       "      <td>816</td>\n",
       "      <td>28</td>\n",
       "      <td>2.500</td>\n",
       "      <td>0.000</td>\n",
       "    </tr>\n",
       "  </tbody>\n",
       "</table>\n",
       "<p>5 rows × 21 columns</p>\n",
       "</div>"
      ],
      "text/plain": [
       "   CLIENTNUM     Attrition_Flag  Customer_Age Gender  Dependent_count  \\\n",
       "0  768805383  Existing Customer            45      M                3   \n",
       "1  818770008  Existing Customer            49      F                5   \n",
       "2  713982108  Existing Customer            51      M                3   \n",
       "3  769911858  Existing Customer            40      F                4   \n",
       "4  709106358  Existing Customer            40      M                3   \n",
       "\n",
       "  Education_Level Marital_Status Income_Category Card_Category  \\\n",
       "0     High School        Married     $60K - $80K          Blue   \n",
       "1        Graduate         Single  Less than $40K          Blue   \n",
       "2        Graduate        Married    $80K - $120K          Blue   \n",
       "3     High School        Unknown  Less than $40K          Blue   \n",
       "4      Uneducated        Married     $60K - $80K          Blue   \n",
       "\n",
       "   Months_on_book  ...  Months_Inactive_12_mon  Contacts_Count_12_mon  \\\n",
       "0            39.0  ...                       1                      3   \n",
       "1            44.0  ...                       1                      2   \n",
       "2            36.0  ...                       1                      0   \n",
       "3            34.0  ...                       4                      1   \n",
       "4            21.0  ...                       1                      0   \n",
       "\n",
       "   Credit_Limit  Total_Revolving_Bal  Avg_Open_To_Buy  Total_Amt_Chng_Q4_Q1  \\\n",
       "0       12691.0                  777          11914.0                 1.335   \n",
       "1        8256.0                  864           7392.0                 1.541   \n",
       "2        3418.0                    0           3418.0                 2.594   \n",
       "3        3313.0                 2517            796.0                 1.405   \n",
       "4        4716.0                    0           4716.0                 2.175   \n",
       "\n",
       "   Total_Trans_Amt  Total_Trans_Ct  Total_Ct_Chng_Q4_Q1  Avg_Utilization_Ratio  \n",
       "0             1144              42                1.625                  0.061  \n",
       "1             1291              33                3.714                  0.105  \n",
       "2             1887              20                2.333                  0.000  \n",
       "3             1171              20                2.333                  0.760  \n",
       "4              816              28                2.500                  0.000  \n",
       "\n",
       "[5 rows x 21 columns]"
      ]
     },
     "execution_count": 7,
     "metadata": {},
     "output_type": "execute_result"
    }
   ],
   "source": [
    "dataset.head()"
   ]
  },
  {
   "cell_type": "code",
   "execution_count": 8,
   "metadata": {},
   "outputs": [
    {
     "name": "stdout",
     "output_type": "stream",
     "text": [
      "Numeric columns:\n",
      "\n",
      "CLIENTNUM\n",
      "Customer_Age\n",
      "Dependent_count\n",
      "Months_on_book\n",
      "Total_Relationship_Count\n",
      "Months_Inactive_12_mon\n",
      "Contacts_Count_12_mon\n",
      "Credit_Limit\n",
      "Total_Revolving_Bal\n",
      "Avg_Open_To_Buy\n",
      "Total_Amt_Chng_Q4_Q1\n",
      "Total_Trans_Amt\n",
      "Total_Trans_Ct\n",
      "Total_Ct_Chng_Q4_Q1\n",
      "Avg_Utilization_Ratio\n",
      "----------------------------------\n",
      "\n",
      "Categorical columns:\n",
      " \n",
      "Attrition_Flag\n",
      "Gender\n",
      "Education_Level\n",
      "Marital_Status\n",
      "Income_Category\n",
      "Card_Category\n"
     ]
    }
   ],
   "source": [
    "# Check variable data types\n",
    "\n",
    "from pandas.api.types import is_string_dtype\n",
    "from pandas.api.types import is_numeric_dtype\n",
    "\n",
    "print(\"Numeric columns:\\n\")\n",
    "for column in dataset.columns:\n",
    "    if is_numeric_dtype(dataset[column]):\n",
    "        print(column)\n",
    "print(\"----------------------------------\\n\")        \n",
    "print(\"Categorical columns:\\n \")        \n",
    "for column in dataset.columns:\n",
    "    if is_string_dtype(dataset[column]):\n",
    "        print(column)"
   ]
  },
  {
   "cell_type": "code",
   "execution_count": 9,
   "metadata": {},
   "outputs": [
    {
     "data": {
      "text/html": [
       "<div>\n",
       "<style scoped>\n",
       "    .dataframe tbody tr th:only-of-type {\n",
       "        vertical-align: middle;\n",
       "    }\n",
       "\n",
       "    .dataframe tbody tr th {\n",
       "        vertical-align: top;\n",
       "    }\n",
       "\n",
       "    .dataframe thead th {\n",
       "        text-align: right;\n",
       "    }\n",
       "</style>\n",
       "<table border=\"1\" class=\"dataframe\">\n",
       "  <thead>\n",
       "    <tr style=\"text-align: right;\">\n",
       "      <th></th>\n",
       "      <th>CLIENTNUM</th>\n",
       "      <th>Customer_Age</th>\n",
       "      <th>Dependent_count</th>\n",
       "      <th>Months_on_book</th>\n",
       "      <th>Total_Relationship_Count</th>\n",
       "      <th>Months_Inactive_12_mon</th>\n",
       "      <th>Contacts_Count_12_mon</th>\n",
       "      <th>Credit_Limit</th>\n",
       "      <th>Total_Revolving_Bal</th>\n",
       "      <th>Avg_Open_To_Buy</th>\n",
       "      <th>Total_Amt_Chng_Q4_Q1</th>\n",
       "      <th>Total_Trans_Amt</th>\n",
       "      <th>Total_Trans_Ct</th>\n",
       "      <th>Total_Ct_Chng_Q4_Q1</th>\n",
       "      <th>Avg_Utilization_Ratio</th>\n",
       "    </tr>\n",
       "  </thead>\n",
       "  <tbody>\n",
       "    <tr>\n",
       "      <th>count</th>\n",
       "      <td>1.012700e+04</td>\n",
       "      <td>10127.000000</td>\n",
       "      <td>10127.000000</td>\n",
       "      <td>1.012700e+04</td>\n",
       "      <td>10127.000000</td>\n",
       "      <td>10127.000000</td>\n",
       "      <td>10127.000000</td>\n",
       "      <td>10127.000000</td>\n",
       "      <td>10127.000000</td>\n",
       "      <td>10127.000000</td>\n",
       "      <td>10127.000000</td>\n",
       "      <td>10127.000000</td>\n",
       "      <td>10127.000000</td>\n",
       "      <td>10127.000000</td>\n",
       "      <td>10127.000000</td>\n",
       "    </tr>\n",
       "    <tr>\n",
       "      <th>mean</th>\n",
       "      <td>7.391776e+08</td>\n",
       "      <td>46.325960</td>\n",
       "      <td>2.346203</td>\n",
       "      <td>3.742297e+07</td>\n",
       "      <td>3.812580</td>\n",
       "      <td>2.341167</td>\n",
       "      <td>2.455317</td>\n",
       "      <td>8631.953698</td>\n",
       "      <td>1162.814061</td>\n",
       "      <td>7469.139637</td>\n",
       "      <td>0.759941</td>\n",
       "      <td>4404.086304</td>\n",
       "      <td>64.858695</td>\n",
       "      <td>0.712222</td>\n",
       "      <td>0.274894</td>\n",
       "    </tr>\n",
       "    <tr>\n",
       "      <th>std</th>\n",
       "      <td>3.690378e+07</td>\n",
       "      <td>8.016814</td>\n",
       "      <td>1.298908</td>\n",
       "      <td>3.193385e+09</td>\n",
       "      <td>1.554408</td>\n",
       "      <td>1.010622</td>\n",
       "      <td>1.106225</td>\n",
       "      <td>9088.776650</td>\n",
       "      <td>814.987335</td>\n",
       "      <td>9090.685324</td>\n",
       "      <td>0.219207</td>\n",
       "      <td>3397.129254</td>\n",
       "      <td>23.472570</td>\n",
       "      <td>0.238086</td>\n",
       "      <td>0.275691</td>\n",
       "    </tr>\n",
       "    <tr>\n",
       "      <th>min</th>\n",
       "      <td>7.080821e+08</td>\n",
       "      <td>26.000000</td>\n",
       "      <td>0.000000</td>\n",
       "      <td>-2.147484e+09</td>\n",
       "      <td>1.000000</td>\n",
       "      <td>0.000000</td>\n",
       "      <td>0.000000</td>\n",
       "      <td>1438.300000</td>\n",
       "      <td>0.000000</td>\n",
       "      <td>3.000000</td>\n",
       "      <td>0.000000</td>\n",
       "      <td>510.000000</td>\n",
       "      <td>10.000000</td>\n",
       "      <td>0.000000</td>\n",
       "      <td>0.000000</td>\n",
       "    </tr>\n",
       "    <tr>\n",
       "      <th>25%</th>\n",
       "      <td>7.130368e+08</td>\n",
       "      <td>41.000000</td>\n",
       "      <td>1.000000</td>\n",
       "      <td>3.100000e+01</td>\n",
       "      <td>3.000000</td>\n",
       "      <td>2.000000</td>\n",
       "      <td>2.000000</td>\n",
       "      <td>2555.000000</td>\n",
       "      <td>359.000000</td>\n",
       "      <td>1324.500000</td>\n",
       "      <td>0.631000</td>\n",
       "      <td>2155.500000</td>\n",
       "      <td>45.000000</td>\n",
       "      <td>0.582000</td>\n",
       "      <td>0.023000</td>\n",
       "    </tr>\n",
       "    <tr>\n",
       "      <th>50%</th>\n",
       "      <td>7.179264e+08</td>\n",
       "      <td>46.000000</td>\n",
       "      <td>2.000000</td>\n",
       "      <td>3.600000e+01</td>\n",
       "      <td>4.000000</td>\n",
       "      <td>2.000000</td>\n",
       "      <td>2.000000</td>\n",
       "      <td>4549.000000</td>\n",
       "      <td>1276.000000</td>\n",
       "      <td>3474.000000</td>\n",
       "      <td>0.736000</td>\n",
       "      <td>3899.000000</td>\n",
       "      <td>67.000000</td>\n",
       "      <td>0.702000</td>\n",
       "      <td>0.176000</td>\n",
       "    </tr>\n",
       "    <tr>\n",
       "      <th>75%</th>\n",
       "      <td>7.731435e+08</td>\n",
       "      <td>52.000000</td>\n",
       "      <td>3.000000</td>\n",
       "      <td>4.000000e+01</td>\n",
       "      <td>5.000000</td>\n",
       "      <td>3.000000</td>\n",
       "      <td>3.000000</td>\n",
       "      <td>11067.500000</td>\n",
       "      <td>1784.000000</td>\n",
       "      <td>9859.000000</td>\n",
       "      <td>0.859000</td>\n",
       "      <td>4741.000000</td>\n",
       "      <td>81.000000</td>\n",
       "      <td>0.818000</td>\n",
       "      <td>0.503000</td>\n",
       "    </tr>\n",
       "    <tr>\n",
       "      <th>max</th>\n",
       "      <td>8.283431e+08</td>\n",
       "      <td>73.000000</td>\n",
       "      <td>5.000000</td>\n",
       "      <td>3.210000e+11</td>\n",
       "      <td>6.000000</td>\n",
       "      <td>6.000000</td>\n",
       "      <td>6.000000</td>\n",
       "      <td>34516.000000</td>\n",
       "      <td>2517.000000</td>\n",
       "      <td>34516.000000</td>\n",
       "      <td>3.397000</td>\n",
       "      <td>18484.000000</td>\n",
       "      <td>139.000000</td>\n",
       "      <td>3.714000</td>\n",
       "      <td>0.999000</td>\n",
       "    </tr>\n",
       "  </tbody>\n",
       "</table>\n",
       "</div>"
      ],
      "text/plain": [
       "          CLIENTNUM  Customer_Age  Dependent_count  Months_on_book  \\\n",
       "count  1.012700e+04  10127.000000     10127.000000    1.012700e+04   \n",
       "mean   7.391776e+08     46.325960         2.346203    3.742297e+07   \n",
       "std    3.690378e+07      8.016814         1.298908    3.193385e+09   \n",
       "min    7.080821e+08     26.000000         0.000000   -2.147484e+09   \n",
       "25%    7.130368e+08     41.000000         1.000000    3.100000e+01   \n",
       "50%    7.179264e+08     46.000000         2.000000    3.600000e+01   \n",
       "75%    7.731435e+08     52.000000         3.000000    4.000000e+01   \n",
       "max    8.283431e+08     73.000000         5.000000    3.210000e+11   \n",
       "\n",
       "       Total_Relationship_Count  Months_Inactive_12_mon  \\\n",
       "count              10127.000000            10127.000000   \n",
       "mean                   3.812580                2.341167   \n",
       "std                    1.554408                1.010622   \n",
       "min                    1.000000                0.000000   \n",
       "25%                    3.000000                2.000000   \n",
       "50%                    4.000000                2.000000   \n",
       "75%                    5.000000                3.000000   \n",
       "max                    6.000000                6.000000   \n",
       "\n",
       "       Contacts_Count_12_mon  Credit_Limit  Total_Revolving_Bal  \\\n",
       "count           10127.000000  10127.000000         10127.000000   \n",
       "mean                2.455317   8631.953698          1162.814061   \n",
       "std                 1.106225   9088.776650           814.987335   \n",
       "min                 0.000000   1438.300000             0.000000   \n",
       "25%                 2.000000   2555.000000           359.000000   \n",
       "50%                 2.000000   4549.000000          1276.000000   \n",
       "75%                 3.000000  11067.500000          1784.000000   \n",
       "max                 6.000000  34516.000000          2517.000000   \n",
       "\n",
       "       Avg_Open_To_Buy  Total_Amt_Chng_Q4_Q1  Total_Trans_Amt  Total_Trans_Ct  \\\n",
       "count     10127.000000          10127.000000     10127.000000    10127.000000   \n",
       "mean       7469.139637              0.759941      4404.086304       64.858695   \n",
       "std        9090.685324              0.219207      3397.129254       23.472570   \n",
       "min           3.000000              0.000000       510.000000       10.000000   \n",
       "25%        1324.500000              0.631000      2155.500000       45.000000   \n",
       "50%        3474.000000              0.736000      3899.000000       67.000000   \n",
       "75%        9859.000000              0.859000      4741.000000       81.000000   \n",
       "max       34516.000000              3.397000     18484.000000      139.000000   \n",
       "\n",
       "       Total_Ct_Chng_Q4_Q1  Avg_Utilization_Ratio  \n",
       "count         10127.000000           10127.000000  \n",
       "mean              0.712222               0.274894  \n",
       "std               0.238086               0.275691  \n",
       "min               0.000000               0.000000  \n",
       "25%               0.582000               0.023000  \n",
       "50%               0.702000               0.176000  \n",
       "75%               0.818000               0.503000  \n",
       "max               3.714000               0.999000  "
      ]
     },
     "execution_count": 9,
     "metadata": {},
     "output_type": "execute_result"
    }
   ],
   "source": [
    "dataset.describe()"
   ]
  },
  {
   "cell_type": "code",
   "execution_count": 10,
   "metadata": {},
   "outputs": [
    {
     "name": "stdout",
     "output_type": "stream",
     "text": [
      "<class 'pandas.core.frame.DataFrame'>\n",
      "RangeIndex: 10127 entries, 0 to 10126\n",
      "Data columns (total 21 columns):\n",
      " #   Column                    Non-Null Count  Dtype  \n",
      "---  ------                    --------------  -----  \n",
      " 0   CLIENTNUM                 10127 non-null  int64  \n",
      " 1   Attrition_Flag            10127 non-null  object \n",
      " 2   Customer_Age              10127 non-null  int64  \n",
      " 3   Gender                    10127 non-null  object \n",
      " 4   Dependent_count           10127 non-null  int64  \n",
      " 5   Education_Level           10127 non-null  object \n",
      " 6   Marital_Status            10127 non-null  object \n",
      " 7   Income_Category           10127 non-null  object \n",
      " 8   Card_Category             10127 non-null  object \n",
      " 9   Months_on_book            10127 non-null  float64\n",
      " 10  Total_Relationship_Count  10127 non-null  int64  \n",
      " 11  Months_Inactive_12_mon    10127 non-null  int64  \n",
      " 12  Contacts_Count_12_mon     10127 non-null  int64  \n",
      " 13  Credit_Limit              10127 non-null  float64\n",
      " 14  Total_Revolving_Bal       10127 non-null  int64  \n",
      " 15  Avg_Open_To_Buy           10127 non-null  float64\n",
      " 16  Total_Amt_Chng_Q4_Q1      10127 non-null  float64\n",
      " 17  Total_Trans_Amt           10127 non-null  int64  \n",
      " 18  Total_Trans_Ct            10127 non-null  int64  \n",
      " 19  Total_Ct_Chng_Q4_Q1       10127 non-null  float64\n",
      " 20  Avg_Utilization_Ratio     10127 non-null  float64\n",
      "dtypes: float64(6), int64(9), object(6)\n",
      "memory usage: 1.6+ MB\n"
     ]
    }
   ],
   "source": [
    "dataset.info()"
   ]
  },
  {
   "cell_type": "markdown",
   "metadata": {},
   "source": [
    "#### Identify unique values"
   ]
  },
  {
   "cell_type": "code",
   "execution_count": 11,
   "metadata": {},
   "outputs": [
    {
     "data": {
      "text/plain": [
       "CLIENTNUM                   10127\n",
       "Attrition_Flag                  2\n",
       "Customer_Age                   45\n",
       "Gender                          2\n",
       "Dependent_count                 6\n",
       "Education_Level                 7\n",
       "Marital_Status                  4\n",
       "Income_Category                 6\n",
       "Card_Category                   4\n",
       "Months_on_book                 47\n",
       "Total_Relationship_Count        6\n",
       "Months_Inactive_12_mon          7\n",
       "Contacts_Count_12_mon           7\n",
       "Credit_Limit                 6205\n",
       "Total_Revolving_Bal          1974\n",
       "Avg_Open_To_Buy              6813\n",
       "Total_Amt_Chng_Q4_Q1         1158\n",
       "Total_Trans_Amt              5033\n",
       "Total_Trans_Ct                126\n",
       "Total_Ct_Chng_Q4_Q1           830\n",
       "Avg_Utilization_Ratio         964\n",
       "dtype: int64"
      ]
     },
     "execution_count": 11,
     "metadata": {},
     "output_type": "execute_result"
    }
   ],
   "source": [
    "#Check unique values\n",
    "dataset.nunique()"
   ]
  },
  {
   "cell_type": "markdown",
   "metadata": {
    "id": "qcK1sU4iSXyw"
   },
   "source": [
    "## 1. Data preprocessing, normalization, missing data, categorical data"
   ]
  },
  {
   "cell_type": "markdown",
   "metadata": {},
   "source": [
    "#### Remove Identification values"
   ]
  },
  {
   "cell_type": "code",
   "execution_count": 12,
   "metadata": {},
   "outputs": [],
   "source": [
    "# Drop the column CLIENTNUM                   \n",
    "dataset = dataset.drop([\"CLIENTNUM\"], axis = 1)"
   ]
  },
  {
   "cell_type": "markdown",
   "metadata": {},
   "source": [
    "#### Missing values, Inconsistent values, Duplicate values\n"
   ]
  },
  {
   "cell_type": "code",
   "execution_count": 13,
   "metadata": {},
   "outputs": [],
   "source": [
    "# Check for missing data\n",
    "\n",
    "for column in dataset.columns:\n",
    "        if dataset[column].isnull().values.any():\n",
    "            print(column)"
   ]
  },
  {
   "cell_type": "code",
   "execution_count": 14,
   "metadata": {},
   "outputs": [
    {
     "name": "stdout",
     "output_type": "stream",
     "text": [
      "\n",
      " Married     4687\n",
      "Single      3943\n",
      "Unknown      749\n",
      "Divorced     748\n",
      "Name: Marital_Status, dtype: int64\n",
      "\n",
      " Graduate         3128\n",
      "High School      2013\n",
      "Unknown          1519\n",
      "Uneducated       1487\n",
      "College          1013\n",
      "Post-Graduate     516\n",
      "Doctorate         451\n",
      "Name: Education_Level, dtype: int64\n",
      "\n",
      " Less than $40K    3561\n",
      "$40K - $60K       1790\n",
      "$80K - $120K      1535\n",
      "$60K - $80K       1402\n",
      "Unknown           1112\n",
      "$120K +            727\n",
      "Name: Income_Category, dtype: int64\n"
     ]
    }
   ],
   "source": [
    "# Check for Unknown data\n",
    "\n",
    "print('\\n', dataset['Marital_Status'].value_counts())\n",
    "print('\\n', dataset['Education_Level'].value_counts())\n",
    "print('\\n', dataset['Income_Category'].value_counts())"
   ]
  },
  {
   "cell_type": "code",
   "execution_count": 15,
   "metadata": {},
   "outputs": [],
   "source": [
    "# Raplacement of the 'Unknown' data with NaN \n",
    "\n",
    "columns = ['Marital_Status','Education_Level','Income_Category']\n",
    "dataset[columns]= dataset[columns].replace('Unknown', nan)"
   ]
  },
  {
   "cell_type": "code",
   "execution_count": 16,
   "metadata": {},
   "outputs": [
    {
     "name": "stdout",
     "output_type": "stream",
     "text": [
      "Education_Level\n",
      "Marital_Status\n",
      "Income_Category\n"
     ]
    }
   ],
   "source": [
    "# Check for missing values\n",
    "\n",
    "for column in dataset.columns:\n",
    "        if dataset[column].isnull().values.any():\n",
    "            print(column)"
   ]
  },
  {
   "cell_type": "code",
   "execution_count": 17,
   "metadata": {},
   "outputs": [],
   "source": [
    "# Replacement of NaN values with 'most_frequent'\n",
    "\n",
    "simple_imputer = SimpleImputer(strategy='most_frequent')\n",
    "dataset[columns] = simple_imputer.fit_transform(dataset[columns])\n"
   ]
  },
  {
   "cell_type": "markdown",
   "metadata": {},
   "source": [
    "#### Identifying Outliers with Interquartile Range (IQR)"
   ]
  },
  {
   "cell_type": "code",
   "execution_count": 18,
   "metadata": {},
   "outputs": [
    {
     "name": "stdout",
     "output_type": "stream",
     "text": [
      "100.29059631376872\n"
     ]
    },
    {
     "data": {
      "text/plain": [
       "count    1.012700e+04\n",
       "mean     3.742297e+07\n",
       "std      3.193385e+09\n",
       "min     -2.147484e+09\n",
       "25%      3.100000e+01\n",
       "50%      3.600000e+01\n",
       "75%      4.000000e+01\n",
       "max      3.210000e+11\n",
       "Name: Months_on_book, dtype: float64"
      ]
     },
     "execution_count": 18,
     "metadata": {},
     "output_type": "execute_result"
    }
   ],
   "source": [
    "# Check for 'Months_on_book' column\n",
    "# The first line of code below prints the skewness value for the 'Months_on_book'\n",
    "# while the second line prints the summary statistics.\n",
    "\n",
    "print(dataset['Months_on_book'].skew())\n",
    "dataset['Months_on_book'].describe()"
   ]
  },
  {
   "cell_type": "code",
   "execution_count": 19,
   "metadata": {},
   "outputs": [
    {
     "data": {
      "image/png": "[encoded data removed]",
      "text/plain": [
       "<Figure size 432x288 with 1 Axes>"
      ]
     },
     "metadata": {
      "needs_background": "light"
     },
     "output_type": "display_data"
    }
   ],
   "source": [
    "#Identifying Outliers with Visualization\n",
    "\n",
    "plt.boxplot(dataset[\"Months_on_book\"])\n",
    "plt.show() \n",
    "#dataset.Months_on_book.hist()\n",
    "\n",
    "#The above chart shows that the distribution is right-skewed, \n",
    "#and there are extreme higher values at the right of the histogram."
   ]
  },
  {
   "cell_type": "code",
   "execution_count": 20,
   "metadata": {},
   "outputs": [
    {
     "name": "stdout",
     "output_type": "stream",
     "text": [
      "The interquartile range (IQR): 9.0\n"
     ]
    }
   ],
   "source": [
    "# It is obiviously that 'Months_on_book' feauture has outliers as it is min. value =-2.147484e+09 and max. value =3.210000e+11\n",
    "#The interquartile range (IQR) is a measure of statistical dispersion and is calculated as the difference between \n",
    "# the 75th and 25th percentiles. It is represented by the formula IQR = Q3 − Q1\n",
    "\n",
    "Q1 = dataset['Months_on_book'].quantile(0.25)\n",
    "Q3 = dataset['Months_on_book'].quantile(0.75)\n",
    "IQR = Q3 - Q1\n",
    "\n",
    "print('The interquartile range (IQR):',IQR)"
   ]
  },
  {
   "cell_type": "markdown",
   "metadata": {},
   "source": [
    "#### Outlier Treatment"
   ]
  },
  {
   "cell_type": "code",
   "execution_count": 21,
   "metadata": {},
   "outputs": [
    {
     "name": "stdout",
     "output_type": "stream",
     "text": [
      "The range between min and max values without outliers is from 13.0 up to 56.0\n",
      "The most common values are between: 36.0 and 50.0\n"
     ]
    }
   ],
   "source": [
    "# The values range and most common value\n",
    "\n",
    "print(\"The range between min and max values without outliers is from\", \n",
    "      dataset['Months_on_book'].quantile(0.002),'up to', dataset['Months_on_book'].quantile(0.99))\n",
    "\n",
    "print(\"The most common values are between:\", \n",
    "      dataset['Months_on_book'].quantile(0.50),'and', dataset['Months_on_book'].quantile(0.95))\n"
   ]
  },
  {
   "cell_type": "code",
   "execution_count": 22,
   "metadata": {
    "scrolled": false
   },
   "outputs": [
    {
     "name": "stdout",
     "output_type": "stream",
     "text": [
      "New skewness value = -0.10693284673560063\n"
     ]
    }
   ],
   "source": [
    "# Replacing Outliers (the extreme values) with median values. \n",
    "# It is advised to not use MEAN values as they are affected by outliers.\n",
    "\n",
    "dataset['Months_on_book'] = np.where(dataset['Months_on_book'] > 56, 36, dataset['Months_on_book'])\n",
    "dataset['Months_on_book'] = np.where(dataset['Months_on_book'] < 13, 36, dataset['Months_on_book'])\n",
    "print('New skewness value =', dataset['Months_on_book'].skew())\n",
    "\n"
   ]
  },
  {
   "cell_type": "code",
   "execution_count": 23,
   "metadata": {},
   "outputs": [],
   "source": [
    "# Final check for missing values \n",
    "\n",
    "for column in dataset.columns:\n",
    "        if dataset[column].isnull().values.any():\n",
    "            print(column)\n"
   ]
  },
  {
   "cell_type": "markdown",
   "metadata": {},
   "source": [
    "### Numerical and Categorical variables"
   ]
  },
  {
   "cell_type": "markdown",
   "metadata": {},
   "source": [
    "We combine features into two lists so that we can analyze them jointly"
   ]
  },
  {
   "cell_type": "code",
   "execution_count": 24,
   "metadata": {},
   "outputs": [
    {
     "name": "stdout",
     "output_type": "stream",
     "text": [
      "Categorical columns:\n",
      " ['Attrition_Flag', 'Gender', 'Education_Level', 'Marital_Status', 'Income_Category', 'Card_Category']\n",
      "\n",
      "Numeric columns:\n",
      " ['Customer_Age', 'Dependent_count', 'Months_on_book', 'Total_Relationship_Count', 'Months_Inactive_12_mon', 'Contacts_Count_12_mon', 'Credit_Limit', 'Total_Revolving_Bal', 'Avg_Open_To_Buy', 'Total_Amt_Chng_Q4_Q1', 'Total_Trans_Amt', 'Total_Trans_Ct', 'Total_Ct_Chng_Q4_Q1', 'Avg_Utilization_Ratio']\n"
     ]
    }
   ],
   "source": [
    "#Categorical and Numeric columns dividing\n",
    "\n",
    "categorical_columns = [x for x in dataset.dtypes.index if dataset.dtypes[x]=='object']\n",
    "numeric_columns=[x for x in dataset.dtypes.index if is_numeric_dtype(dataset[x])]\n",
    "\n",
    "print ('Categorical columns:\\n',categorical_columns)\n",
    "print('\\nNumeric columns:\\n',numeric_columns)"
   ]
  },
  {
   "cell_type": "code",
   "execution_count": 25,
   "metadata": {},
   "outputs": [
    {
     "data": {
      "text/html": [
       "<div>\n",
       "<style scoped>\n",
       "    .dataframe tbody tr th:only-of-type {\n",
       "        vertical-align: middle;\n",
       "    }\n",
       "\n",
       "    .dataframe tbody tr th {\n",
       "        vertical-align: top;\n",
       "    }\n",
       "\n",
       "    .dataframe thead th {\n",
       "        text-align: right;\n",
       "    }\n",
       "</style>\n",
       "<table border=\"1\" class=\"dataframe\">\n",
       "  <thead>\n",
       "    <tr style=\"text-align: right;\">\n",
       "      <th></th>\n",
       "      <th>skew</th>\n",
       "    </tr>\n",
       "  </thead>\n",
       "  <tbody>\n",
       "    <tr>\n",
       "      <th>Total_Ct_Chng_Q4_Q1</th>\n",
       "      <td>2.064031</td>\n",
       "    </tr>\n",
       "    <tr>\n",
       "      <th>Total_Trans_Amt</th>\n",
       "      <td>2.041003</td>\n",
       "    </tr>\n",
       "    <tr>\n",
       "      <th>Total_Amt_Chng_Q4_Q1</th>\n",
       "      <td>1.732063</td>\n",
       "    </tr>\n",
       "    <tr>\n",
       "      <th>Credit_Limit</th>\n",
       "      <td>1.666726</td>\n",
       "    </tr>\n",
       "    <tr>\n",
       "      <th>Avg_Open_To_Buy</th>\n",
       "      <td>1.661697</td>\n",
       "    </tr>\n",
       "    <tr>\n",
       "      <th>Avg_Utilization_Ratio</th>\n",
       "      <td>0.718008</td>\n",
       "    </tr>\n",
       "    <tr>\n",
       "      <th>Months_Inactive_12_mon</th>\n",
       "      <td>0.633061</td>\n",
       "    </tr>\n",
       "    <tr>\n",
       "      <th>Total_Trans_Ct</th>\n",
       "      <td>0.153673</td>\n",
       "    </tr>\n",
       "    <tr>\n",
       "      <th>Contacts_Count_12_mon</th>\n",
       "      <td>0.011006</td>\n",
       "    </tr>\n",
       "    <tr>\n",
       "      <th>Dependent_count</th>\n",
       "      <td>-0.020826</td>\n",
       "    </tr>\n",
       "    <tr>\n",
       "      <th>Customer_Age</th>\n",
       "      <td>-0.033605</td>\n",
       "    </tr>\n",
       "    <tr>\n",
       "      <th>Months_on_book</th>\n",
       "      <td>-0.106933</td>\n",
       "    </tr>\n",
       "    <tr>\n",
       "      <th>Total_Revolving_Bal</th>\n",
       "      <td>-0.148837</td>\n",
       "    </tr>\n",
       "    <tr>\n",
       "      <th>Total_Relationship_Count</th>\n",
       "      <td>-0.162452</td>\n",
       "    </tr>\n",
       "  </tbody>\n",
       "</table>\n",
       "</div>"
      ],
      "text/plain": [
       "                              skew\n",
       "Total_Ct_Chng_Q4_Q1       2.064031\n",
       "Total_Trans_Amt           2.041003\n",
       "Total_Amt_Chng_Q4_Q1      1.732063\n",
       "Credit_Limit              1.666726\n",
       "Avg_Open_To_Buy           1.661697\n",
       "Avg_Utilization_Ratio     0.718008\n",
       "Months_Inactive_12_mon    0.633061\n",
       "Total_Trans_Ct            0.153673\n",
       "Contacts_Count_12_mon     0.011006\n",
       "Dependent_count          -0.020826\n",
       "Customer_Age             -0.033605\n",
       "Months_on_book           -0.106933\n",
       "Total_Revolving_Bal      -0.148837\n",
       "Total_Relationship_Count -0.162452"
      ]
     },
     "execution_count": 25,
     "metadata": {},
     "output_type": "execute_result"
    }
   ],
   "source": [
    "# Calculate skew and sort\n",
    "# The coefficient of skewness is a measure of asymmetry in the distribution.\n",
    "# A positive skew indicates a longer tail to the right, while a negative skew indicates a longer tail to the left.\n",
    "# A perfectly symmetric distribution, like the normal distribution, has a skew equal to zero.\n",
    "\n",
    "skew_feats = dataset[numeric_columns].skew().sort_values(ascending=False)\n",
    "skewness = pd.DataFrame({'skew':skew_feats})\n",
    "\n",
    "skewness"
   ]
  },
  {
   "cell_type": "code",
   "execution_count": 26,
   "metadata": {},
   "outputs": [
    {
     "data": {
      "text/plain": [
       "<AxesSubplot:>"
      ]
     },
     "execution_count": 26,
     "metadata": {},
     "output_type": "execute_result"
    },
    {
     "data": {
      "image/png": "[encoded data removed]",
      "text/plain": [
       "<Figure size 432x288 with 1 Axes>"
      ]
     },
     "metadata": {
      "needs_background": "light"
     },
     "output_type": "display_data"
    }
   ],
   "source": [
    "#Log Transform on skewed data Total_Ct_Chng_Q4_Q1\n",
    "\n",
    "dataset = dataset.assign(Total_Ct_Chng_Q4_Q1_norm = np.log(dataset['Total_Ct_Chng_Q4_Q1']+0.1))\n",
    "\n",
    "Total_Ct_Chng_Q4_Q1_norm = [dataset['Total_Ct_Chng_Q4_Q1_norm'].values]\n",
    "sns.distplot(Total_Ct_Chng_Q4_Q1_norm, label='Total_Ct_Chng_Q4_Q1')"
   ]
  },
  {
   "cell_type": "code",
   "execution_count": 27,
   "metadata": {},
   "outputs": [
    {
     "data": {
      "text/plain": [
       "<AxesSubplot:xlabel='Total_Trans_Amt_norm'>"
      ]
     },
     "execution_count": 27,
     "metadata": {},
     "output_type": "execute_result"
    },
    {
     "data": {
      "image/png": "[encoded data removed]",
      "text/plain": [
       "<Figure size 432x288 with 1 Axes>"
      ]
     },
     "metadata": {
      "needs_background": "light"
     },
     "output_type": "display_data"
    }
   ],
   "source": [
    "#Log Transform on skewed data Total_Trans_Amt\n",
    "\n",
    "dataset = dataset.assign(Total_Trans_Amt_norm = np.log(dataset['Total_Trans_Amt']+0.1))\n",
    "sns.distplot(dataset['Total_Trans_Amt_norm'], label='Total_Trans_Amt')"
   ]
  },
  {
   "cell_type": "code",
   "execution_count": 28,
   "metadata": {},
   "outputs": [
    {
     "data": {
      "text/plain": [
       "<AxesSubplot:xlabel='Total_Amt_Chng_Q4_Q1_norm'>"
      ]
     },
     "execution_count": 28,
     "metadata": {},
     "output_type": "execute_result"
    },
    {
     "data": {
      "image/png": "[encoded data removed]",
      "text/plain": [
       "<Figure size 432x288 with 1 Axes>"
      ]
     },
     "metadata": {
      "needs_background": "light"
     },
     "output_type": "display_data"
    }
   ],
   "source": [
    "#Log Transform on skewed data Total_Amt_Chng_Q4_Q1\n",
    "\n",
    "dataset = dataset.assign(Total_Amt_Chng_Q4_Q1_norm = np.log(dataset['Total_Amt_Chng_Q4_Q1']+0.1))\n",
    "sns.distplot(dataset['Total_Amt_Chng_Q4_Q1_norm'], label='Total_Amt_Chng_Q4_Q1_norm')"
   ]
  },
  {
   "cell_type": "code",
   "execution_count": 29,
   "metadata": {},
   "outputs": [
    {
     "data": {
      "text/plain": [
       "<AxesSubplot:xlabel='Avg_Open_To_Buy_norm'>"
      ]
     },
     "execution_count": 29,
     "metadata": {},
     "output_type": "execute_result"
    },
    {
     "data": {
      "image/png": "[encoded data removed]",
      "text/plain": [
       "<Figure size 432x288 with 1 Axes>"
      ]
     },
     "metadata": {
      "needs_background": "light"
     },
     "output_type": "display_data"
    }
   ],
   "source": [
    "#Log Transform on skewed data Avg_Open_To_Buy\n",
    "\n",
    "dataset = dataset.assign(Avg_Open_To_Buy_norm = np.log(dataset['Avg_Open_To_Buy']+0.1))\n",
    "sns.distplot(dataset['Avg_Open_To_Buy_norm'], label='Avg_Open_To_Buy_norm')"
   ]
  },
  {
   "cell_type": "code",
   "execution_count": 30,
   "metadata": {},
   "outputs": [
    {
     "data": {
      "text/plain": [
       "<AxesSubplot:xlabel='Credit_Limit_norm'>"
      ]
     },
     "execution_count": 30,
     "metadata": {},
     "output_type": "execute_result"
    },
    {
     "data": {
      "image/png": "[encoded data removed]",
      "text/plain": [
       "<Figure size 432x288 with 1 Axes>"
      ]
     },
     "metadata": {
      "needs_background": "light"
     },
     "output_type": "display_data"
    }
   ],
   "source": [
    "#Log Transform on skewed data Credit_Limit\n",
    "\n",
    "dataset = dataset.assign(Credit_Limit_norm = np.log(dataset['Credit_Limit']+0.1))\n",
    "sns.distplot(dataset['Credit_Limit_norm'], label='Credit_Limit_norm')"
   ]
  },
  {
   "cell_type": "code",
   "execution_count": 31,
   "metadata": {},
   "outputs": [
    {
     "data": {
      "text/plain": [
       "<AxesSubplot:xlabel='Avg_Utilization_Ratio_norm'>"
      ]
     },
     "execution_count": 31,
     "metadata": {},
     "output_type": "execute_result"
    },
    {
     "data": {
      "image/png": "[encoded data removed]",
      "text/plain": [
       "<Figure size 432x288 with 1 Axes>"
      ]
     },
     "metadata": {
      "needs_background": "light"
     },
     "output_type": "display_data"
    }
   ],
   "source": [
    "#Log Transform on skewed data\n",
    "\n",
    "dataset = dataset.assign(Avg_Utilization_Ratio_norm = np.log(dataset['Avg_Utilization_Ratio']+0.1))\n",
    "sns.distplot(dataset['Avg_Utilization_Ratio_norm'], label='Avg_Utilization_Ratio_norm')"
   ]
  },
  {
   "cell_type": "markdown",
   "metadata": {},
   "source": [
    "## Scaling"
   ]
  },
  {
   "cell_type": "code",
   "execution_count": 32,
   "metadata": {},
   "outputs": [],
   "source": [
    "#RobustScaler\n",
    "\n",
    "from sklearn.preprocessing import RobustScaler\n",
    "\n",
    "columns = ['Total_Ct_Chng_Q4_Q1_norm','Credit_Limit_norm','Avg_Open_To_Buy_norm','Total_Amt_Chng_Q4_Q1_norm','Avg_Utilization_Ratio_norm']\n",
    "transformer = RobustScaler()\n",
    "\n",
    "dataset[columns] = transformer.fit_transform(dataset[columns])"
   ]
  },
  {
   "cell_type": "code",
   "execution_count": 33,
   "metadata": {},
   "outputs": [],
   "source": [
    "#Min-Max Scaler -Age\n",
    "from sklearn.preprocessing import MinMaxScaler\n",
    "\n",
    "column = ['Customer_Age']\n",
    "\n",
    "transformer = MinMaxScaler(feature_range=(0,1))\n",
    "dataset[column] = transformer.fit_transform(dataset[column])"
   ]
  },
  {
   "cell_type": "code",
   "execution_count": 34,
   "metadata": {},
   "outputs": [
    {
     "name": "stdout",
     "output_type": "stream",
     "text": [
      "Minimum value of Age is : 0.0\n",
      "Maximum value of Age is : 0.9999999999999999\n"
     ]
    }
   ],
   "source": [
    "print(\"Minimum value of Age is :\", dataset['Customer_Age'].min())\n",
    "print(\"Maximum value of Age is :\", dataset['Customer_Age'].max())"
   ]
  },
  {
   "cell_type": "code",
   "execution_count": 35,
   "metadata": {},
   "outputs": [],
   "source": [
    "#Standard Scaler\n",
    "from sklearn.preprocessing import StandardScaler\n",
    "\n",
    "column_ = ['Total_Revolving_Bal','Total_Trans_Amt']\n",
    "transformer = StandardScaler()\n",
    "dataset[column_] = transformer.fit_transform(dataset[column_])"
   ]
  },
  {
   "cell_type": "markdown",
   "metadata": {},
   "source": [
    "### Choosing target columns"
   ]
  },
  {
   "cell_type": "code",
   "execution_count": 36,
   "metadata": {},
   "outputs": [
    {
     "data": {
      "text/html": [
       "<div>\n",
       "<style scoped>\n",
       "    .dataframe tbody tr th:only-of-type {\n",
       "        vertical-align: middle;\n",
       "    }\n",
       "\n",
       "    .dataframe tbody tr th {\n",
       "        vertical-align: top;\n",
       "    }\n",
       "\n",
       "    .dataframe thead th {\n",
       "        text-align: right;\n",
       "    }\n",
       "</style>\n",
       "<table border=\"1\" class=\"dataframe\">\n",
       "  <thead>\n",
       "    <tr style=\"text-align: right;\">\n",
       "      <th></th>\n",
       "      <th>Attrition_Flag</th>\n",
       "      <th>Customer_Age</th>\n",
       "      <th>Gender</th>\n",
       "      <th>Dependent_count</th>\n",
       "      <th>Education_Level</th>\n",
       "      <th>Marital_Status</th>\n",
       "      <th>Income_Category</th>\n",
       "      <th>Card_Category</th>\n",
       "      <th>Months_on_book</th>\n",
       "      <th>Total_Relationship_Count</th>\n",
       "      <th>...</th>\n",
       "      <th>Total_Trans_Amt</th>\n",
       "      <th>Total_Trans_Ct</th>\n",
       "      <th>Total_Ct_Chng_Q4_Q1</th>\n",
       "      <th>Avg_Utilization_Ratio</th>\n",
       "      <th>Total_Ct_Chng_Q4_Q1_norm</th>\n",
       "      <th>Total_Trans_Amt_norm</th>\n",
       "      <th>Total_Amt_Chng_Q4_Q1_norm</th>\n",
       "      <th>Avg_Open_To_Buy_norm</th>\n",
       "      <th>Credit_Limit_norm</th>\n",
       "      <th>Avg_Utilization_Ratio_norm</th>\n",
       "    </tr>\n",
       "  </thead>\n",
       "  <tbody>\n",
       "    <tr>\n",
       "      <th>0</th>\n",
       "      <td>0</td>\n",
       "      <td>0.404255</td>\n",
       "      <td>M</td>\n",
       "      <td>3</td>\n",
       "      <td>High School</td>\n",
       "      <td>Married</td>\n",
       "      <td>$60K - $80K</td>\n",
       "      <td>Blue</td>\n",
       "      <td>39.0</td>\n",
       "      <td>5</td>\n",
       "      <td>...</td>\n",
       "      <td>-0.959707</td>\n",
       "      <td>42</td>\n",
       "      <td>1.625</td>\n",
       "      <td>0.061</td>\n",
       "      <td>2.577244</td>\n",
       "      <td>7.042374</td>\n",
       "      <td>1.990188</td>\n",
       "      <td>0.613957</td>\n",
       "      <td>0.699877</td>\n",
       "      <td>-0.339048</td>\n",
       "    </tr>\n",
       "    <tr>\n",
       "      <th>1</th>\n",
       "      <td>0</td>\n",
       "      <td>0.489362</td>\n",
       "      <td>F</td>\n",
       "      <td>5</td>\n",
       "      <td>Graduate</td>\n",
       "      <td>Single</td>\n",
       "      <td>Less than $40K</td>\n",
       "      <td>Blue</td>\n",
       "      <td>44.0</td>\n",
       "      <td>6</td>\n",
       "      <td>...</td>\n",
       "      <td>-0.916433</td>\n",
       "      <td>33</td>\n",
       "      <td>3.714</td>\n",
       "      <td>0.105</td>\n",
       "      <td>5.247290</td>\n",
       "      <td>7.163250</td>\n",
       "      <td>2.484302</td>\n",
       "      <td>0.376168</td>\n",
       "      <td>0.406583</td>\n",
       "      <td>-0.187070</td>\n",
       "    </tr>\n",
       "    <tr>\n",
       "      <th>2</th>\n",
       "      <td>0</td>\n",
       "      <td>0.531915</td>\n",
       "      <td>M</td>\n",
       "      <td>3</td>\n",
       "      <td>Graduate</td>\n",
       "      <td>Married</td>\n",
       "      <td>$80K - $120K</td>\n",
       "      <td>Blue</td>\n",
       "      <td>36.0</td>\n",
       "      <td>4</td>\n",
       "      <td>...</td>\n",
       "      <td>-0.740982</td>\n",
       "      <td>20</td>\n",
       "      <td>2.333</td>\n",
       "      <td>0.000</td>\n",
       "      <td>3.734496</td>\n",
       "      <td>7.542797</td>\n",
       "      <td>4.310314</td>\n",
       "      <td>-0.008096</td>\n",
       "      <td>-0.194992</td>\n",
       "      <td>-0.638617</td>\n",
       "    </tr>\n",
       "    <tr>\n",
       "      <th>3</th>\n",
       "      <td>0</td>\n",
       "      <td>0.297872</td>\n",
       "      <td>F</td>\n",
       "      <td>4</td>\n",
       "      <td>High School</td>\n",
       "      <td>Married</td>\n",
       "      <td>Less than $40K</td>\n",
       "      <td>Blue</td>\n",
       "      <td>34.0</td>\n",
       "      <td>3</td>\n",
       "      <td>...</td>\n",
       "      <td>-0.951758</td>\n",
       "      <td>20</td>\n",
       "      <td>2.333</td>\n",
       "      <td>0.760</td>\n",
       "      <td>3.734496</td>\n",
       "      <td>7.065699</td>\n",
       "      <td>2.165628</td>\n",
       "      <td>-0.734010</td>\n",
       "      <td>-0.216276</td>\n",
       "      <td>0.714920</td>\n",
       "    </tr>\n",
       "    <tr>\n",
       "      <th>4</th>\n",
       "      <td>0</td>\n",
       "      <td>0.297872</td>\n",
       "      <td>M</td>\n",
       "      <td>3</td>\n",
       "      <td>Uneducated</td>\n",
       "      <td>Married</td>\n",
       "      <td>$60K - $80K</td>\n",
       "      <td>Blue</td>\n",
       "      <td>21.0</td>\n",
       "      <td>5</td>\n",
       "      <td>...</td>\n",
       "      <td>-1.056263</td>\n",
       "      <td>28</td>\n",
       "      <td>2.500</td>\n",
       "      <td>0.000</td>\n",
       "      <td>3.957893</td>\n",
       "      <td>6.704537</td>\n",
       "      <td>3.687622</td>\n",
       "      <td>0.152269</td>\n",
       "      <td>0.024594</td>\n",
       "      <td>-0.638617</td>\n",
       "    </tr>\n",
       "    <tr>\n",
       "      <th>...</th>\n",
       "      <td>...</td>\n",
       "      <td>...</td>\n",
       "      <td>...</td>\n",
       "      <td>...</td>\n",
       "      <td>...</td>\n",
       "      <td>...</td>\n",
       "      <td>...</td>\n",
       "      <td>...</td>\n",
       "      <td>...</td>\n",
       "      <td>...</td>\n",
       "      <td>...</td>\n",
       "      <td>...</td>\n",
       "      <td>...</td>\n",
       "      <td>...</td>\n",
       "      <td>...</td>\n",
       "      <td>...</td>\n",
       "      <td>...</td>\n",
       "      <td>...</td>\n",
       "      <td>...</td>\n",
       "      <td>...</td>\n",
       "      <td>...</td>\n",
       "    </tr>\n",
       "    <tr>\n",
       "      <th>10122</th>\n",
       "      <td>0</td>\n",
       "      <td>0.510638</td>\n",
       "      <td>M</td>\n",
       "      <td>2</td>\n",
       "      <td>Graduate</td>\n",
       "      <td>Single</td>\n",
       "      <td>$40K - $60K</td>\n",
       "      <td>Blue</td>\n",
       "      <td>40.0</td>\n",
       "      <td>3</td>\n",
       "      <td>...</td>\n",
       "      <td>3.259358</td>\n",
       "      <td>117</td>\n",
       "      <td>0.857</td>\n",
       "      <td>0.462</td>\n",
       "      <td>0.594596</td>\n",
       "      <td>9.647052</td>\n",
       "      <td>-0.148351</td>\n",
       "      <td>-0.238577</td>\n",
       "      <td>-0.087221</td>\n",
       "      <td>0.447308</td>\n",
       "    </tr>\n",
       "    <tr>\n",
       "      <th>10123</th>\n",
       "      <td>1</td>\n",
       "      <td>0.319149</td>\n",
       "      <td>M</td>\n",
       "      <td>2</td>\n",
       "      <td>Graduate</td>\n",
       "      <td>Divorced</td>\n",
       "      <td>$40K - $60K</td>\n",
       "      <td>Blue</td>\n",
       "      <td>25.0</td>\n",
       "      <td>4</td>\n",
       "      <td>...</td>\n",
       "      <td>1.283475</td>\n",
       "      <td>69</td>\n",
       "      <td>0.683</td>\n",
       "      <td>0.511</td>\n",
       "      <td>-0.080681</td>\n",
       "      <td>9.078419</td>\n",
       "      <td>0.288056</td>\n",
       "      <td>-0.252901</td>\n",
       "      <td>-0.042058</td>\n",
       "      <td>0.499893</td>\n",
       "    </tr>\n",
       "    <tr>\n",
       "      <th>10124</th>\n",
       "      <td>1</td>\n",
       "      <td>0.382979</td>\n",
       "      <td>F</td>\n",
       "      <td>1</td>\n",
       "      <td>High School</td>\n",
       "      <td>Married</td>\n",
       "      <td>Less than $40K</td>\n",
       "      <td>Blue</td>\n",
       "      <td>36.0</td>\n",
       "      <td>5</td>\n",
       "      <td>...</td>\n",
       "      <td>1.732994</td>\n",
       "      <td>60</td>\n",
       "      <td>0.818</td>\n",
       "      <td>0.000</td>\n",
       "      <td>0.454588</td>\n",
       "      <td>9.239035</td>\n",
       "      <td>0.348675</td>\n",
       "      <td>0.220570</td>\n",
       "      <td>0.118118</td>\n",
       "      <td>-0.638617</td>\n",
       "    </tr>\n",
       "    <tr>\n",
       "      <th>10125</th>\n",
       "      <td>1</td>\n",
       "      <td>0.085106</td>\n",
       "      <td>M</td>\n",
       "      <td>2</td>\n",
       "      <td>Graduate</td>\n",
       "      <td>Married</td>\n",
       "      <td>$40K - $60K</td>\n",
       "      <td>Blue</td>\n",
       "      <td>36.0</td>\n",
       "      <td>4</td>\n",
       "      <td>...</td>\n",
       "      <td>1.174848</td>\n",
       "      <td>62</td>\n",
       "      <td>0.722</td>\n",
       "      <td>0.000</td>\n",
       "      <td>0.082888</td>\n",
       "      <td>9.035403</td>\n",
       "      <td>-1.012988</td>\n",
       "      <td>0.208640</td>\n",
       "      <td>0.101782</td>\n",
       "      <td>-0.638617</td>\n",
       "    </tr>\n",
       "    <tr>\n",
       "      <th>10126</th>\n",
       "      <td>1</td>\n",
       "      <td>0.361702</td>\n",
       "      <td>F</td>\n",
       "      <td>2</td>\n",
       "      <td>Graduate</td>\n",
       "      <td>Married</td>\n",
       "      <td>Less than $40K</td>\n",
       "      <td>Silver</td>\n",
       "      <td>25.0</td>\n",
       "      <td>6</td>\n",
       "      <td>...</td>\n",
       "      <td>1.733877</td>\n",
       "      <td>61</td>\n",
       "      <td>0.649</td>\n",
       "      <td>0.189</td>\n",
       "      <td>-0.230071</td>\n",
       "      <td>9.239326</td>\n",
       "      <td>-0.148351</td>\n",
       "      <td>0.441451</td>\n",
       "      <td>0.563281</td>\n",
       "      <td>0.028952</td>\n",
       "    </tr>\n",
       "  </tbody>\n",
       "</table>\n",
       "<p>10127 rows × 26 columns</p>\n",
       "</div>"
      ],
      "text/plain": [
       "       Attrition_Flag  Customer_Age Gender  Dependent_count Education_Level  \\\n",
       "0                   0      0.404255      M                3     High School   \n",
       "1                   0      0.489362      F                5        Graduate   \n",
       "2                   0      0.531915      M                3        Graduate   \n",
       "3                   0      0.297872      F                4     High School   \n",
       "4                   0      0.297872      M                3      Uneducated   \n",
       "...               ...           ...    ...              ...             ...   \n",
       "10122               0      0.510638      M                2        Graduate   \n",
       "10123               1      0.319149      M                2        Graduate   \n",
       "10124               1      0.382979      F                1     High School   \n",
       "10125               1      0.085106      M                2        Graduate   \n",
       "10126               1      0.361702      F                2        Graduate   \n",
       "\n",
       "      Marital_Status Income_Category Card_Category  Months_on_book  \\\n",
       "0            Married     $60K - $80K          Blue            39.0   \n",
       "1             Single  Less than $40K          Blue            44.0   \n",
       "2            Married    $80K - $120K          Blue            36.0   \n",
       "3            Married  Less than $40K          Blue            34.0   \n",
       "4            Married     $60K - $80K          Blue            21.0   \n",
       "...              ...             ...           ...             ...   \n",
       "10122         Single     $40K - $60K          Blue            40.0   \n",
       "10123       Divorced     $40K - $60K          Blue            25.0   \n",
       "10124        Married  Less than $40K          Blue            36.0   \n",
       "10125        Married     $40K - $60K          Blue            36.0   \n",
       "10126        Married  Less than $40K        Silver            25.0   \n",
       "\n",
       "       Total_Relationship_Count  ...  Total_Trans_Amt  Total_Trans_Ct  \\\n",
       "0                             5  ...        -0.959707              42   \n",
       "1                             6  ...        -0.916433              33   \n",
       "2                             4  ...        -0.740982              20   \n",
       "3                             3  ...        -0.951758              20   \n",
       "4                             5  ...        -1.056263              28   \n",
       "...                         ...  ...              ...             ...   \n",
       "10122                         3  ...         3.259358             117   \n",
       "10123                         4  ...         1.283475              69   \n",
       "10124                         5  ...         1.732994              60   \n",
       "10125                         4  ...         1.174848              62   \n",
       "10126                         6  ...         1.733877              61   \n",
       "\n",
       "       Total_Ct_Chng_Q4_Q1  Avg_Utilization_Ratio  Total_Ct_Chng_Q4_Q1_norm  \\\n",
       "0                    1.625                  0.061                  2.577244   \n",
       "1                    3.714                  0.105                  5.247290   \n",
       "2                    2.333                  0.000                  3.734496   \n",
       "3                    2.333                  0.760                  3.734496   \n",
       "4                    2.500                  0.000                  3.957893   \n",
       "...                    ...                    ...                       ...   \n",
       "10122                0.857                  0.462                  0.594596   \n",
       "10123                0.683                  0.511                 -0.080681   \n",
       "10124                0.818                  0.000                  0.454588   \n",
       "10125                0.722                  0.000                  0.082888   \n",
       "10126                0.649                  0.189                 -0.230071   \n",
       "\n",
       "       Total_Trans_Amt_norm  Total_Amt_Chng_Q4_Q1_norm  Avg_Open_To_Buy_norm  \\\n",
       "0                  7.042374                   1.990188              0.613957   \n",
       "1                  7.163250                   2.484302              0.376168   \n",
       "2                  7.542797                   4.310314             -0.008096   \n",
       "3                  7.065699                   2.165628             -0.734010   \n",
       "4                  6.704537                   3.687622              0.152269   \n",
       "...                     ...                        ...                   ...   \n",
       "10122              9.647052                  -0.148351             -0.238577   \n",
       "10123              9.078419                   0.288056             -0.252901   \n",
       "10124              9.239035                   0.348675              0.220570   \n",
       "10125              9.035403                  -1.012988              0.208640   \n",
       "10126              9.239326                  -0.148351              0.441451   \n",
       "\n",
       "       Credit_Limit_norm  Avg_Utilization_Ratio_norm  \n",
       "0               0.699877                   -0.339048  \n",
       "1               0.406583                   -0.187070  \n",
       "2              -0.194992                   -0.638617  \n",
       "3              -0.216276                    0.714920  \n",
       "4               0.024594                   -0.638617  \n",
       "...                  ...                         ...  \n",
       "10122          -0.087221                    0.447308  \n",
       "10123          -0.042058                    0.499893  \n",
       "10124           0.118118                   -0.638617  \n",
       "10125           0.101782                   -0.638617  \n",
       "10126           0.563281                    0.028952  \n",
       "\n",
       "[10127 rows x 26 columns]"
      ]
     },
     "execution_count": 36,
     "metadata": {},
     "output_type": "execute_result"
    }
   ],
   "source": [
    "# Mapping Attrited_Flag\n",
    "\n",
    "mapper = {'Attrited Customer': 1, 'Existing Customer': 0}\n",
    "dataset = dataset.assign(Attrition_Flag = dataset['Attrition_Flag'].replace(mapper))\n",
    "dataset"
   ]
  },
  {
   "cell_type": "markdown",
   "metadata": {},
   "source": [
    "#### Check target variable distribution"
   ]
  },
  {
   "cell_type": "code",
   "execution_count": 37,
   "metadata": {},
   "outputs": [
    {
     "data": {
      "text/plain": [
       "0    8500\n",
       "1    1627\n",
       "Name: Attrition_Flag, dtype: int64"
      ]
     },
     "execution_count": 37,
     "metadata": {},
     "output_type": "execute_result"
    }
   ],
   "source": [
    "dataset[\"Attrition_Flag\"].value_counts()"
   ]
  },
  {
   "cell_type": "markdown",
   "metadata": {},
   "source": [
    "#### Split the dataset into dependent and independent variables:"
   ]
  },
  {
   "cell_type": "code",
   "execution_count": 38,
   "metadata": {},
   "outputs": [],
   "source": [
    "X = dataset.drop(['Attrition_Flag'], axis = 1)\n",
    "y = dataset['Attrition_Flag']"
   ]
  },
  {
   "cell_type": "markdown",
   "metadata": {},
   "source": [
    "#### Encode Categorical data: CatBoost Encoding"
   ]
  },
  {
   "cell_type": "code",
   "execution_count": 39,
   "metadata": {},
   "outputs": [],
   "source": [
    "cat_features = ['Gender','Education_Level','Marital_Status','Income_Category','Card_Category']"
   ]
  },
  {
   "cell_type": "code",
   "execution_count": 40,
   "metadata": {},
   "outputs": [],
   "source": [
    "import category_encoders as ce\n",
    "\n",
    "count_encoder = ce.CatBoostEncoder(cols=cat_features)\n",
    "\n",
    "X[cat_features] = count_encoder.fit_transform(X[cat_features],y)"
   ]
  },
  {
   "cell_type": "code",
   "execution_count": 41,
   "metadata": {},
   "outputs": [
    {
     "data": {
      "text/html": [
       "<div>\n",
       "<style scoped>\n",
       "    .dataframe tbody tr th:only-of-type {\n",
       "        vertical-align: middle;\n",
       "    }\n",
       "\n",
       "    .dataframe tbody tr th {\n",
       "        vertical-align: top;\n",
       "    }\n",
       "\n",
       "    .dataframe thead th {\n",
       "        text-align: right;\n",
       "    }\n",
       "</style>\n",
       "<table border=\"1\" class=\"dataframe\">\n",
       "  <thead>\n",
       "    <tr style=\"text-align: right;\">\n",
       "      <th></th>\n",
       "      <th>Customer_Age</th>\n",
       "      <th>Gender</th>\n",
       "      <th>Dependent_count</th>\n",
       "      <th>Education_Level</th>\n",
       "      <th>Marital_Status</th>\n",
       "      <th>Income_Category</th>\n",
       "      <th>Card_Category</th>\n",
       "      <th>Months_on_book</th>\n",
       "      <th>Total_Relationship_Count</th>\n",
       "      <th>Months_Inactive_12_mon</th>\n",
       "      <th>...</th>\n",
       "      <th>Total_Trans_Amt</th>\n",
       "      <th>Total_Trans_Ct</th>\n",
       "      <th>Total_Ct_Chng_Q4_Q1</th>\n",
       "      <th>Avg_Utilization_Ratio</th>\n",
       "      <th>Total_Ct_Chng_Q4_Q1_norm</th>\n",
       "      <th>Total_Trans_Amt_norm</th>\n",
       "      <th>Total_Amt_Chng_Q4_Q1_norm</th>\n",
       "      <th>Avg_Open_To_Buy_norm</th>\n",
       "      <th>Credit_Limit_norm</th>\n",
       "      <th>Avg_Utilization_Ratio_norm</th>\n",
       "    </tr>\n",
       "  </thead>\n",
       "  <tbody>\n",
       "    <tr>\n",
       "      <th>0</th>\n",
       "      <td>0.404255</td>\n",
       "      <td>0.160660</td>\n",
       "      <td>3</td>\n",
       "      <td>0.16066</td>\n",
       "      <td>0.160660</td>\n",
       "      <td>0.16066</td>\n",
       "      <td>0.160660</td>\n",
       "      <td>39.0</td>\n",
       "      <td>5</td>\n",
       "      <td>1</td>\n",
       "      <td>...</td>\n",
       "      <td>-0.959707</td>\n",
       "      <td>42</td>\n",
       "      <td>1.625</td>\n",
       "      <td>0.061</td>\n",
       "      <td>2.577244</td>\n",
       "      <td>7.042374</td>\n",
       "      <td>1.990188</td>\n",
       "      <td>0.613957</td>\n",
       "      <td>0.699877</td>\n",
       "      <td>-0.339048</td>\n",
       "    </tr>\n",
       "    <tr>\n",
       "      <th>1</th>\n",
       "      <td>0.489362</td>\n",
       "      <td>0.160660</td>\n",
       "      <td>5</td>\n",
       "      <td>0.16066</td>\n",
       "      <td>0.160660</td>\n",
       "      <td>0.16066</td>\n",
       "      <td>0.080330</td>\n",
       "      <td>44.0</td>\n",
       "      <td>6</td>\n",
       "      <td>1</td>\n",
       "      <td>...</td>\n",
       "      <td>-0.916433</td>\n",
       "      <td>33</td>\n",
       "      <td>3.714</td>\n",
       "      <td>0.105</td>\n",
       "      <td>5.247290</td>\n",
       "      <td>7.163250</td>\n",
       "      <td>2.484302</td>\n",
       "      <td>0.376168</td>\n",
       "      <td>0.406583</td>\n",
       "      <td>-0.187070</td>\n",
       "    </tr>\n",
       "    <tr>\n",
       "      <th>2</th>\n",
       "      <td>0.531915</td>\n",
       "      <td>0.080330</td>\n",
       "      <td>3</td>\n",
       "      <td>0.08033</td>\n",
       "      <td>0.080330</td>\n",
       "      <td>0.16066</td>\n",
       "      <td>0.053553</td>\n",
       "      <td>36.0</td>\n",
       "      <td>4</td>\n",
       "      <td>1</td>\n",
       "      <td>...</td>\n",
       "      <td>-0.740982</td>\n",
       "      <td>20</td>\n",
       "      <td>2.333</td>\n",
       "      <td>0.000</td>\n",
       "      <td>3.734496</td>\n",
       "      <td>7.542797</td>\n",
       "      <td>4.310314</td>\n",
       "      <td>-0.008096</td>\n",
       "      <td>-0.194992</td>\n",
       "      <td>-0.638617</td>\n",
       "    </tr>\n",
       "    <tr>\n",
       "      <th>3</th>\n",
       "      <td>0.297872</td>\n",
       "      <td>0.080330</td>\n",
       "      <td>4</td>\n",
       "      <td>0.08033</td>\n",
       "      <td>0.053553</td>\n",
       "      <td>0.08033</td>\n",
       "      <td>0.040165</td>\n",
       "      <td>34.0</td>\n",
       "      <td>3</td>\n",
       "      <td>4</td>\n",
       "      <td>...</td>\n",
       "      <td>-0.951758</td>\n",
       "      <td>20</td>\n",
       "      <td>2.333</td>\n",
       "      <td>0.760</td>\n",
       "      <td>3.734496</td>\n",
       "      <td>7.065699</td>\n",
       "      <td>2.165628</td>\n",
       "      <td>-0.734010</td>\n",
       "      <td>-0.216276</td>\n",
       "      <td>0.714920</td>\n",
       "    </tr>\n",
       "    <tr>\n",
       "      <th>4</th>\n",
       "      <td>0.297872</td>\n",
       "      <td>0.053553</td>\n",
       "      <td>3</td>\n",
       "      <td>0.16066</td>\n",
       "      <td>0.040165</td>\n",
       "      <td>0.08033</td>\n",
       "      <td>0.032132</td>\n",
       "      <td>21.0</td>\n",
       "      <td>5</td>\n",
       "      <td>1</td>\n",
       "      <td>...</td>\n",
       "      <td>-1.056263</td>\n",
       "      <td>28</td>\n",
       "      <td>2.500</td>\n",
       "      <td>0.000</td>\n",
       "      <td>3.957893</td>\n",
       "      <td>6.704537</td>\n",
       "      <td>3.687622</td>\n",
       "      <td>0.152269</td>\n",
       "      <td>0.024594</td>\n",
       "      <td>-0.638617</td>\n",
       "    </tr>\n",
       "  </tbody>\n",
       "</table>\n",
       "<p>5 rows × 25 columns</p>\n",
       "</div>"
      ],
      "text/plain": [
       "   Customer_Age    Gender  Dependent_count  Education_Level  Marital_Status  \\\n",
       "0      0.404255  0.160660                3          0.16066        0.160660   \n",
       "1      0.489362  0.160660                5          0.16066        0.160660   \n",
       "2      0.531915  0.080330                3          0.08033        0.080330   \n",
       "3      0.297872  0.080330                4          0.08033        0.053553   \n",
       "4      0.297872  0.053553                3          0.16066        0.040165   \n",
       "\n",
       "   Income_Category  Card_Category  Months_on_book  Total_Relationship_Count  \\\n",
       "0          0.16066       0.160660            39.0                         5   \n",
       "1          0.16066       0.080330            44.0                         6   \n",
       "2          0.16066       0.053553            36.0                         4   \n",
       "3          0.08033       0.040165            34.0                         3   \n",
       "4          0.08033       0.032132            21.0                         5   \n",
       "\n",
       "   Months_Inactive_12_mon  ...  Total_Trans_Amt  Total_Trans_Ct  \\\n",
       "0                       1  ...        -0.959707              42   \n",
       "1                       1  ...        -0.916433              33   \n",
       "2                       1  ...        -0.740982              20   \n",
       "3                       4  ...        -0.951758              20   \n",
       "4                       1  ...        -1.056263              28   \n",
       "\n",
       "   Total_Ct_Chng_Q4_Q1  Avg_Utilization_Ratio  Total_Ct_Chng_Q4_Q1_norm  \\\n",
       "0                1.625                  0.061                  2.577244   \n",
       "1                3.714                  0.105                  5.247290   \n",
       "2                2.333                  0.000                  3.734496   \n",
       "3                2.333                  0.760                  3.734496   \n",
       "4                2.500                  0.000                  3.957893   \n",
       "\n",
       "   Total_Trans_Amt_norm  Total_Amt_Chng_Q4_Q1_norm  Avg_Open_To_Buy_norm  \\\n",
       "0              7.042374                   1.990188              0.613957   \n",
       "1              7.163250                   2.484302              0.376168   \n",
       "2              7.542797                   4.310314             -0.008096   \n",
       "3              7.065699                   2.165628             -0.734010   \n",
       "4              6.704537                   3.687622              0.152269   \n",
       "\n",
       "   Credit_Limit_norm  Avg_Utilization_Ratio_norm  \n",
       "0           0.699877                   -0.339048  \n",
       "1           0.406583                   -0.187070  \n",
       "2          -0.194992                   -0.638617  \n",
       "3          -0.216276                    0.714920  \n",
       "4           0.024594                   -0.638617  \n",
       "\n",
       "[5 rows x 25 columns]"
      ]
     },
     "execution_count": 41,
     "metadata": {},
     "output_type": "execute_result"
    }
   ],
   "source": [
    "X.head()"
   ]
  },
  {
   "cell_type": "markdown",
   "metadata": {
    "id": "XiazHmxRSXy0"
   },
   "source": [
    "# 2. Feature Anaysis, Extraction & Selection\n",
    "(you may need to perform feature selection after creating default models and compare to them)"
   ]
  },
  {
   "cell_type": "markdown",
   "metadata": {},
   "source": [
    "####   Clean the dataset"
   ]
  },
  {
   "cell_type": "code",
   "execution_count": 42,
   "metadata": {
    "id": "f1QIHDpbSXy0"
   },
   "outputs": [],
   "source": [
    "X=X.drop(['Total_Ct_Chng_Q4_Q1','Credit_Limit','Avg_Open_To_Buy',\n",
    "          'Total_Amt_Chng_Q4_Q1','Avg_Utilization_Ratio','Total_Trans_Amt'], axis=1)"
   ]
  },
  {
   "cell_type": "markdown",
   "metadata": {},
   "source": [
    "### Splitting the Training and Testing sets "
   ]
  },
  {
   "cell_type": "code",
   "execution_count": 43,
   "metadata": {},
   "outputs": [],
   "source": [
    "from sklearn.model_selection import train_test_split\n",
    "\n",
    "X_train, X_test, y_train, y_test = train_test_split(X, y, test_size=0.3, random_state=0)"
   ]
  },
  {
   "cell_type": "code",
   "execution_count": 44,
   "metadata": {},
   "outputs": [
    {
     "name": "stdout",
     "output_type": "stream",
     "text": [
      " (7088, 19) (3039, 19) \n",
      " (7088,)    (3039,)\n"
     ]
    }
   ],
   "source": [
    "print(\"\", X_train.shape, X_test.shape, '\\n', y_train.shape, '  ', y_test.shape)"
   ]
  },
  {
   "cell_type": "markdown",
   "metadata": {},
   "source": [
    "#### SMOTE"
   ]
  },
  {
   "cell_type": "code",
   "execution_count": 45,
   "metadata": {},
   "outputs": [
    {
     "data": {
      "image/png": "[encoded data removed]",
      "text/plain": [
       "<Figure size 432x288 with 1 Axes>"
      ]
     },
     "metadata": {
      "needs_background": "light"
     },
     "output_type": "display_data"
    }
   ],
   "source": [
    "from collections import Counter\n",
    "from numpy import where\n",
    "\n",
    "counter = Counter(y_train)\n",
    "X_ = np.asarray(X_train)\n",
    "y_ = np.asarray(y_train)\n",
    "\n",
    "# visualise the classes\n",
    "\n",
    "for label, items in counter.items():\n",
    "     row = where(y_ == label)[0]\n",
    "     plt.scatter(X_[row, 0], X_[row, 1], label=str(label))\n",
    "plt.legend()\n",
    "plt.show()"
   ]
  },
  {
   "cell_type": "code",
   "execution_count": 46,
   "metadata": {},
   "outputs": [
    {
     "name": "stdout",
     "output_type": "stream",
     "text": [
      "Counter({0: 5917, 1: 1171})\n",
      "Counter({0: 5917, 1: 5917})\n"
     ]
    }
   ],
   "source": [
    "from matplotlib import pyplot\n",
    "from imblearn.over_sampling import SMOTE\n",
    "\n",
    "# summarize class distribution\n",
    "counter = Counter(y_train)\n",
    "print(counter)\n",
    "\n",
    "# transform the dataset\n",
    "oversample       = SMOTE()\n",
    "X_train, y_train = oversample.fit_resample(X_train, y_train)\n",
    "\n",
    "# summarize the new class distribution\n",
    "counter = Counter(y_train)\n",
    "print(counter)"
   ]
  },
  {
   "cell_type": "code",
   "execution_count": 47,
   "metadata": {},
   "outputs": [
    {
     "data": {
      "image/png": "[encoded data removed]",
      "text/plain": [
       "<Figure size 432x288 with 1 Axes>"
      ]
     },
     "metadata": {
      "needs_background": "light"
     },
     "output_type": "display_data"
    }
   ],
   "source": [
    "# Visualized dataset again to check the distribution again\n",
    "\n",
    "counter = Counter(y_train)\n",
    "X_ = np.asarray(X_train)\n",
    "y_ = np.asarray(y_train)\n",
    "\n",
    "# visualise the classes\n",
    "for label, items in counter.items():\n",
    "     row = where(y_ == label)[0]\n",
    "     plt.scatter(X_[row, 0], X_[row, 1], label=str(label))\n",
    "plt.legend()\n",
    "plt.show()"
   ]
  },
  {
   "cell_type": "code",
   "execution_count": 48,
   "metadata": {},
   "outputs": [
    {
     "name": "stdout",
     "output_type": "stream",
     "text": [
      " (11834, 19) (3039, 19) \n",
      " (11834,)    (3039,)\n"
     ]
    }
   ],
   "source": [
    "#Check the dataset shape\n",
    "\n",
    "print(\"\", X_train.shape, X_test.shape, '\\n', y_train.shape, '  ', y_test.shape)"
   ]
  },
  {
   "cell_type": "markdown",
   "metadata": {
    "id": "92THQSXGSXy3"
   },
   "source": [
    "# 3. Classification models\n",
    "- classical classification models\n"
   ]
  },
  {
   "cell_type": "markdown",
   "metadata": {},
   "source": [
    "### DecisionTreeClassifier"
   ]
  },
  {
   "cell_type": "code",
   "execution_count": 49,
   "metadata": {},
   "outputs": [
    {
     "data": {
      "text/html": [
       "<div>\n",
       "<style scoped>\n",
       "    .dataframe tbody tr th:only-of-type {\n",
       "        vertical-align: middle;\n",
       "    }\n",
       "\n",
       "    .dataframe tbody tr th {\n",
       "        vertical-align: top;\n",
       "    }\n",
       "\n",
       "    .dataframe thead th {\n",
       "        text-align: right;\n",
       "    }\n",
       "</style>\n",
       "<table border=\"1\" class=\"dataframe\">\n",
       "  <thead>\n",
       "    <tr style=\"text-align: right;\">\n",
       "      <th></th>\n",
       "      <th>Classifier</th>\n",
       "      <th>Accuracy_score</th>\n",
       "      <th>Precision_score</th>\n",
       "      <th>Recall_score</th>\n",
       "      <th>F1_score</th>\n",
       "      <th>Mean_score</th>\n",
       "    </tr>\n",
       "  </thead>\n",
       "  <tbody>\n",
       "    <tr>\n",
       "      <th>0</th>\n",
       "      <td>DecisionTreeClassifier</td>\n",
       "      <td>0.9513</td>\n",
       "      <td>0.809237</td>\n",
       "      <td>0.883772</td>\n",
       "      <td>0.844864</td>\n",
       "      <td>0.872293</td>\n",
       "    </tr>\n",
       "  </tbody>\n",
       "</table>\n",
       "</div>"
      ],
      "text/plain": [
       "               Classifier  Accuracy_score  Precision_score  Recall_score  \\\n",
       "0  DecisionTreeClassifier          0.9513         0.809237      0.883772   \n",
       "\n",
       "   F1_score  Mean_score  \n",
       "0  0.844864    0.872293  "
      ]
     },
     "execution_count": 49,
     "metadata": {},
     "output_type": "execute_result"
    },
    {
     "data": {
      "image/png": "[encoded data removed]",
      "text/plain": [
       "<Figure size 432x288 with 2 Axes>"
      ]
     },
     "metadata": {
      "needs_background": "light"
     },
     "output_type": "display_data"
    }
   ],
   "source": [
    "from sklearn.tree import DecisionTreeClassifier\n",
    "\n",
    "tree = DecisionTreeClassifier()\n",
    "tree.fit(X_train, y_train)\n",
    "\n",
    "#Predict\n",
    "y_pred_tree = tree.predict(X_test)\n",
    "\n",
    "#Evaluate Model Results on Test Set:\n",
    "acc_tree   = accuracy_score(y_test, y_pred_tree )\n",
    "prec_tree  = precision_score(y_test, y_pred_tree )\n",
    "rec_tree   = recall_score(y_test, y_pred_tree )\n",
    "f1_tree    = f1_score(y_test, y_pred_tree )\n",
    "\n",
    "Mean_score_tree = ((acc_tree+prec_tree+rec_tree+f1_tree)/4)\n",
    "\n",
    "#Get the confusion matrix\n",
    "cf_matrix_tree = confusion_matrix(y_test, y_pred_tree)\n",
    "\n",
    "#Plot confusion matrix\n",
    "ax= plt.subplot()\n",
    "sns.set(font_scale=1.4) # for label size\n",
    "sns.heatmap(cf_matrix_tree, annot=True, fmt='g', annot_kws={\"size\": 20}) # font size\n",
    "ax.set_xlabel('Predicted Values')\n",
    "ax.set_ylabel('Actual Values') \n",
    "ax.set_title('Confusion Matrix for DecisionTreeClassifier')\n",
    "\n",
    "data_tree = {'Classifier':     ['DecisionTreeClassifier'],\n",
    "            'Accuracy_score':  [acc_tree],\n",
    "            'Precision_score': [prec_tree], \n",
    "            'Recall_score':    [rec_tree],\n",
    "            'F1_score':        [f1_tree],\n",
    "            'Mean_score':      [Mean_score_tree]\n",
    "             }\n",
    "\n",
    "comparison_tree = pd.DataFrame (data_tree, columns = ['Classifier','Accuracy_score','Precision_score', \n",
    "                                                      'Recall_score','F1_score','Mean_score'])\n",
    "comparison_tree"
   ]
  },
  {
   "cell_type": "markdown",
   "metadata": {},
   "source": [
    "### Support Vector Machine - SVM"
   ]
  },
  {
   "cell_type": "code",
   "execution_count": 50,
   "metadata": {},
   "outputs": [
    {
     "data": {
      "text/html": [
       "<div>\n",
       "<style scoped>\n",
       "    .dataframe tbody tr th:only-of-type {\n",
       "        vertical-align: middle;\n",
       "    }\n",
       "\n",
       "    .dataframe tbody tr th {\n",
       "        vertical-align: top;\n",
       "    }\n",
       "\n",
       "    .dataframe thead th {\n",
       "        text-align: right;\n",
       "    }\n",
       "</style>\n",
       "<table border=\"1\" class=\"dataframe\">\n",
       "  <thead>\n",
       "    <tr style=\"text-align: right;\">\n",
       "      <th></th>\n",
       "      <th>Classifier</th>\n",
       "      <th>Accuracy_score</th>\n",
       "      <th>Precision_score</th>\n",
       "      <th>Recall_score</th>\n",
       "      <th>F1_score</th>\n",
       "      <th>Mean_score</th>\n",
       "    </tr>\n",
       "  </thead>\n",
       "  <tbody>\n",
       "    <tr>\n",
       "      <th>0</th>\n",
       "      <td>SVM</td>\n",
       "      <td>0.90589</td>\n",
       "      <td>0.666667</td>\n",
       "      <td>0.745614</td>\n",
       "      <td>0.703934</td>\n",
       "      <td>0.755526</td>\n",
       "    </tr>\n",
       "  </tbody>\n",
       "</table>\n",
       "</div>"
      ],
      "text/plain": [
       "  Classifier  Accuracy_score  Precision_score  Recall_score  F1_score  \\\n",
       "0        SVM         0.90589         0.666667      0.745614  0.703934   \n",
       "\n",
       "   Mean_score  \n",
       "0    0.755526  "
      ]
     },
     "execution_count": 50,
     "metadata": {},
     "output_type": "execute_result"
    },
    {
     "data": {
      "image/png": "[encoded data removed]",
      "text/plain": [
       "<Figure size 432x288 with 2 Axes>"
      ]
     },
     "metadata": {},
     "output_type": "display_data"
    }
   ],
   "source": [
    "from sklearn.svm import SVC \n",
    "svm = SVC(gamma='auto')\n",
    "svm.fit(X_train, y_train)\n",
    "\n",
    "#Predict\n",
    "y_pred_svm= svm.predict(X_test)\n",
    "\n",
    "#Evaluate Model Results on Test Set:\n",
    "acc_svm   = accuracy_score(y_test, y_pred_svm )\n",
    "prec_svm  = precision_score(y_test, y_pred_svm )\n",
    "rec_svm   = recall_score(y_test, y_pred_svm )\n",
    "f1_svm    = f1_score(y_test, y_pred_svm )\n",
    "\n",
    "Mean_score_svm = ((acc_svm+prec_svm+rec_svm+f1_svm)/4)\n",
    "\n",
    "#Get the confusion matrix\n",
    "cf_matrix_svm = confusion_matrix(y_test, y_pred_svm)\n",
    "\n",
    "#Plot confusion matrix\n",
    "ax= plt.subplot()\n",
    "sns.set(font_scale=1.4) # for label size\n",
    "sns.heatmap(cf_matrix_svm, annot=True, fmt='g',annot_kws={\"size\": 20}) # font size\n",
    "ax.set_xlabel('Predicted Values')\n",
    "ax.set_ylabel('Actual Values') \n",
    "ax.set_title('Confusion Matrix for SVM')\n",
    "\n",
    "data_svm = {'Classifier':      ['SVM'],\n",
    "            'Accuracy_score':  [acc_svm],\n",
    "            'Precision_score': [prec_svm], \n",
    "            'Recall_score':    [rec_svm],\n",
    "            'F1_score':        [f1_svm],\n",
    "            'Mean_score':      [Mean_score_svm]\n",
    "            }\n",
    "\n",
    "comparison_svm = pd.DataFrame (data_svm, columns = ['Classifier','Accuracy_score','Precision_score', \n",
    "                                                    'Recall_score','F1_score','Mean_score'])\n",
    "comparison_svm"
   ]
  },
  {
   "cell_type": "markdown",
   "metadata": {},
   "source": [
    "### Random Forest Classifier"
   ]
  },
  {
   "cell_type": "code",
   "execution_count": 51,
   "metadata": {},
   "outputs": [
    {
     "data": {
      "text/html": [
       "<div>\n",
       "<style scoped>\n",
       "    .dataframe tbody tr th:only-of-type {\n",
       "        vertical-align: middle;\n",
       "    }\n",
       "\n",
       "    .dataframe tbody tr th {\n",
       "        vertical-align: top;\n",
       "    }\n",
       "\n",
       "    .dataframe thead th {\n",
       "        text-align: right;\n",
       "    }\n",
       "</style>\n",
       "<table border=\"1\" class=\"dataframe\">\n",
       "  <thead>\n",
       "    <tr style=\"text-align: right;\">\n",
       "      <th></th>\n",
       "      <th>Classifier</th>\n",
       "      <th>Accuracy_score</th>\n",
       "      <th>Precision_score</th>\n",
       "      <th>Recall_score</th>\n",
       "      <th>F1_score</th>\n",
       "      <th>Mean_score</th>\n",
       "    </tr>\n",
       "  </thead>\n",
       "  <tbody>\n",
       "    <tr>\n",
       "      <th>0</th>\n",
       "      <td>RandomForestClassifier</td>\n",
       "      <td>0.975979</td>\n",
       "      <td>0.915401</td>\n",
       "      <td>0.925439</td>\n",
       "      <td>0.920393</td>\n",
       "      <td>0.934303</td>\n",
       "    </tr>\n",
       "  </tbody>\n",
       "</table>\n",
       "</div>"
      ],
      "text/plain": [
       "               Classifier  Accuracy_score  Precision_score  Recall_score  \\\n",
       "0  RandomForestClassifier        0.975979         0.915401      0.925439   \n",
       "\n",
       "   F1_score  Mean_score  \n",
       "0  0.920393    0.934303  "
      ]
     },
     "execution_count": 51,
     "metadata": {},
     "output_type": "execute_result"
    },
    {
     "data": {
      "image/png": "[encoded data removed]",
      "text/plain": [
       "<Figure size 432x288 with 2 Axes>"
      ]
     },
     "metadata": {},
     "output_type": "display_data"
    }
   ],
   "source": [
    "from sklearn.ensemble import RandomForestClassifier\n",
    "\n",
    "rnd = RandomForestClassifier()\n",
    "rnd.fit(X_train, y_train)\n",
    "\n",
    "#Predict\n",
    "y_pred_rnd = rnd.predict(X_test)\n",
    "\n",
    "#Evaluate Model Results on Test Set:\n",
    "acc_rnd   = accuracy_score(y_test, y_pred_rnd )\n",
    "prec_rnd  = precision_score(y_test, y_pred_rnd )\n",
    "rec_rnd   = recall_score(y_test, y_pred_rnd )\n",
    "f1_rnd    = f1_score(y_test, y_pred_rnd )\n",
    "\n",
    "Mean_score_rnd =((acc_rnd+prec_rnd+rec_rnd+f1_rnd)/4)\n",
    "\n",
    "#Get the confusion matrix\n",
    "cf_matrix = confusion_matrix(y_test, y_pred_rnd)\n",
    "\n",
    "#Plot confusion matrix\n",
    "ax= plt.subplot()\n",
    "sns.set(font_scale=1.4) # for label size\n",
    "sns.heatmap(cf_matrix, annot=True, fmt='g',annot_kws={\"size\": 20}) # font size\n",
    "ax.set_xlabel('Predicted Values')\n",
    "ax.set_ylabel('Actual Values') \n",
    "ax.set_title('Confusion Matrix for RandomForestClassifier')\n",
    "\n",
    "data_rnd = {'Classifier':      ['RandomForestClassifier'],\n",
    "            'Accuracy_score':  [acc_rnd],\n",
    "            'Precision_score': [prec_rnd], \n",
    "            'Recall_score':    [rec_rnd],\n",
    "            'F1_score':        [f1_rnd],\n",
    "            'Mean_score':      [Mean_score_rnd]\n",
    "            }\n",
    "\n",
    "comparison_rnd = pd.DataFrame (data_rnd, columns = ['Classifier','Accuracy_score','Precision_score', \n",
    "                                                    'Recall_score','F1_score','Mean_score'])\n",
    "comparison_rnd"
   ]
  },
  {
   "cell_type": "markdown",
   "metadata": {},
   "source": [
    "### KNeighbors Classifier - KNN"
   ]
  },
  {
   "cell_type": "code",
   "execution_count": 52,
   "metadata": {},
   "outputs": [
    {
     "data": {
      "text/html": [
       "<div>\n",
       "<style scoped>\n",
       "    .dataframe tbody tr th:only-of-type {\n",
       "        vertical-align: middle;\n",
       "    }\n",
       "\n",
       "    .dataframe tbody tr th {\n",
       "        vertical-align: top;\n",
       "    }\n",
       "\n",
       "    .dataframe thead th {\n",
       "        text-align: right;\n",
       "    }\n",
       "</style>\n",
       "<table border=\"1\" class=\"dataframe\">\n",
       "  <thead>\n",
       "    <tr style=\"text-align: right;\">\n",
       "      <th></th>\n",
       "      <th>Classifier</th>\n",
       "      <th>Accuracy_score</th>\n",
       "      <th>Precision_score</th>\n",
       "      <th>Recall_score</th>\n",
       "      <th>F1_score</th>\n",
       "      <th>Mean_score</th>\n",
       "    </tr>\n",
       "  </thead>\n",
       "  <tbody>\n",
       "    <tr>\n",
       "      <th>0</th>\n",
       "      <td>KNeighborsClassifier</td>\n",
       "      <td>0.83975</td>\n",
       "      <td>0.47925</td>\n",
       "      <td>0.785088</td>\n",
       "      <td>0.595179</td>\n",
       "      <td>0.674817</td>\n",
       "    </tr>\n",
       "  </tbody>\n",
       "</table>\n",
       "</div>"
      ],
      "text/plain": [
       "             Classifier  Accuracy_score  Precision_score  Recall_score  \\\n",
       "0  KNeighborsClassifier         0.83975          0.47925      0.785088   \n",
       "\n",
       "   F1_score  Mean_score  \n",
       "0  0.595179    0.674817  "
      ]
     },
     "execution_count": 52,
     "metadata": {},
     "output_type": "execute_result"
    },
    {
     "data": {
      "image/png": "[encoded data removed]",
      "text/plain": [
       "<Figure size 432x288 with 2 Axes>"
      ]
     },
     "metadata": {},
     "output_type": "display_data"
    }
   ],
   "source": [
    "from sklearn.neighbors import KNeighborsClassifier\n",
    "knn_model = KNeighborsClassifier()\n",
    "knn_model.fit(X_train, y_train )\n",
    "\n",
    "#Predict\n",
    "y_pred_knn = knn_model.predict(X_test)\n",
    "\n",
    "#Evaluate Model Results on Test Set:\n",
    "acc_knn   = accuracy_score(y_test, y_pred_knn )\n",
    "prec_knn  = precision_score(y_test, y_pred_knn )\n",
    "rec_knn   = recall_score(y_test, y_pred_knn )\n",
    "f1_knn    = f1_score(y_test, y_pred_knn )\n",
    "\n",
    "Mean_score_knn = ((acc_knn+prec_knn+rec_knn+f1_knn)/4)\n",
    "\n",
    "#Get the confusion matrix\n",
    "cf_matrix_knn = confusion_matrix(y_test, y_pred_knn)\n",
    "\n",
    "#Plot confusion matrix\n",
    "ax= plt.subplot()\n",
    "sns.set(font_scale=1.4) # for label size\n",
    "sns.heatmap(cf_matrix_knn, annot=True, fmt='g',annot_kws={\"size\": 20}) # font size\n",
    "ax.set_xlabel('Predicted Values')\n",
    "ax.set_ylabel('Actual Values') \n",
    "ax.set_title('Confusion Matrix for KNeighborsClassifier')\n",
    "\n",
    "data_knn = {'Classifier':  ['KNeighborsClassifier'],\n",
    "            'Accuracy_score':  [acc_knn],\n",
    "            'Precision_score': [prec_knn], \n",
    "            'Recall_score':    [rec_knn],\n",
    "            'F1_score':        [f1_knn],\n",
    "            'Mean_score':      [Mean_score_knn]\n",
    "            }\n",
    "\n",
    "comparison_knn = pd.DataFrame (data_knn, columns = ['Classifier','Accuracy_score','Precision_score', \n",
    "                                                    'Recall_score','F1_score','Mean_score'])\n",
    "comparison_knn"
   ]
  },
  {
   "cell_type": "markdown",
   "metadata": {},
   "source": [
    "### GaussianNB \n"
   ]
  },
  {
   "cell_type": "code",
   "execution_count": 53,
   "metadata": {},
   "outputs": [
    {
     "data": {
      "text/html": [
       "<div>\n",
       "<style scoped>\n",
       "    .dataframe tbody tr th:only-of-type {\n",
       "        vertical-align: middle;\n",
       "    }\n",
       "\n",
       "    .dataframe tbody tr th {\n",
       "        vertical-align: top;\n",
       "    }\n",
       "\n",
       "    .dataframe thead th {\n",
       "        text-align: right;\n",
       "    }\n",
       "</style>\n",
       "<table border=\"1\" class=\"dataframe\">\n",
       "  <thead>\n",
       "    <tr style=\"text-align: right;\">\n",
       "      <th></th>\n",
       "      <th>Classifier</th>\n",
       "      <th>Accuracy_score</th>\n",
       "      <th>Precision_score</th>\n",
       "      <th>Recall_score</th>\n",
       "      <th>F1_score</th>\n",
       "      <th>Mean_score</th>\n",
       "    </tr>\n",
       "  </thead>\n",
       "  <tbody>\n",
       "    <tr>\n",
       "      <th>0</th>\n",
       "      <td>GaussianNB</td>\n",
       "      <td>0.879895</td>\n",
       "      <td>0.575707</td>\n",
       "      <td>0.758772</td>\n",
       "      <td>0.654683</td>\n",
       "      <td>0.717264</td>\n",
       "    </tr>\n",
       "  </tbody>\n",
       "</table>\n",
       "</div>"
      ],
      "text/plain": [
       "   Classifier  Accuracy_score  Precision_score  Recall_score  F1_score  \\\n",
       "0  GaussianNB        0.879895         0.575707      0.758772  0.654683   \n",
       "\n",
       "   Mean_score  \n",
       "0    0.717264  "
      ]
     },
     "execution_count": 53,
     "metadata": {},
     "output_type": "execute_result"
    },
    {
     "data": {
      "image/png": "[encoded data removed]",
      "text/plain": [
       "<Figure size 432x288 with 2 Axes>"
      ]
     },
     "metadata": {},
     "output_type": "display_data"
    }
   ],
   "source": [
    "from sklearn.naive_bayes import GaussianNB\n",
    "gnb = GaussianNB()\n",
    "gnb.fit(X_train, y_train)\n",
    "\n",
    "#Predict\n",
    "y_pred_gnb = gnb.predict(X_test)\n",
    "\n",
    "#Evaluate Model Results on Test Set:\n",
    "acc_gnb   = accuracy_score(y_test, y_pred_gnb )\n",
    "prec_gnb  = precision_score(y_test, y_pred_gnb )\n",
    "rec_gnb   = recall_score(y_test, y_pred_gnb )\n",
    "f1_gnb    = f1_score(y_test, y_pred_gnb )\n",
    "\n",
    "Mean_score_gnb = ((acc_gnb+prec_gnb+rec_gnb+f1_gnb)/4)\n",
    "\n",
    "#Get the confusion matrix\n",
    "cf_matrix_gnb = confusion_matrix(y_test, y_pred_gnb)\n",
    "\n",
    "#Plot confusion matrix\n",
    "ax= plt.subplot()\n",
    "sns.set(font_scale=1.4) # for label size\n",
    "sns.heatmap(cf_matrix_gnb, annot=True, fmt='g',annot_kws={\"size\": 20}) # font size\n",
    "ax.set_xlabel('Predicted Values')\n",
    "ax.set_ylabel('Actual Values') \n",
    "ax.set_title('Confusion Matrix for GaussianNB')\n",
    "\n",
    "data_gnb = {'Classifier':      ['GaussianNB'],\n",
    "            'Accuracy_score':  [acc_gnb],\n",
    "            'Precision_score': [prec_gnb], \n",
    "            'Recall_score':    [rec_gnb],\n",
    "            'F1_score':        [f1_gnb],\n",
    "            'Mean_score':      [Mean_score_gnb]\n",
    "            }\n",
    "\n",
    "comparison_gnb = pd.DataFrame (data_gnb, columns = ['Classifier','Accuracy_score','Precision_score', \n",
    "                                                    'Recall_score','F1_score','Mean_score'])\n",
    "comparison_gnb"
   ]
  },
  {
   "cell_type": "markdown",
   "metadata": {},
   "source": [
    "### XGBoost Classifier"
   ]
  },
  {
   "cell_type": "code",
   "execution_count": 54,
   "metadata": {},
   "outputs": [
    {
     "name": "stdout",
     "output_type": "stream",
     "text": [
      "[22:21:04] WARNING: C:/Users/Administrator/workspace/xgboost-win64_release_1.4.0/src/learner.cc:1095: Starting in XGBoost 1.3.0, the default evaluation metric used with the objective 'binary:logistic' was changed from 'error' to 'logloss'. Explicitly set eval_metric if you'd like to restore the old behavior.\n"
     ]
    },
    {
     "data": {
      "text/html": [
       "<div>\n",
       "<style scoped>\n",
       "    .dataframe tbody tr th:only-of-type {\n",
       "        vertical-align: middle;\n",
       "    }\n",
       "\n",
       "    .dataframe tbody tr th {\n",
       "        vertical-align: top;\n",
       "    }\n",
       "\n",
       "    .dataframe thead th {\n",
       "        text-align: right;\n",
       "    }\n",
       "</style>\n",
       "<table border=\"1\" class=\"dataframe\">\n",
       "  <thead>\n",
       "    <tr style=\"text-align: right;\">\n",
       "      <th></th>\n",
       "      <th>Classifier</th>\n",
       "      <th>Accuracy_score</th>\n",
       "      <th>Precision_score</th>\n",
       "      <th>Recall_score</th>\n",
       "      <th>F1_score</th>\n",
       "      <th>Mean_score</th>\n",
       "    </tr>\n",
       "  </thead>\n",
       "  <tbody>\n",
       "    <tr>\n",
       "      <th>0</th>\n",
       "      <td>XGBClassifier</td>\n",
       "      <td>0.977295</td>\n",
       "      <td>0.917927</td>\n",
       "      <td>0.932018</td>\n",
       "      <td>0.924918</td>\n",
       "      <td>0.938039</td>\n",
       "    </tr>\n",
       "  </tbody>\n",
       "</table>\n",
       "</div>"
      ],
      "text/plain": [
       "      Classifier  Accuracy_score  Precision_score  Recall_score  F1_score  \\\n",
       "0  XGBClassifier        0.977295         0.917927      0.932018  0.924918   \n",
       "\n",
       "   Mean_score  \n",
       "0    0.938039  "
      ]
     },
     "execution_count": 54,
     "metadata": {},
     "output_type": "execute_result"
    },
    {
     "data": {
      "image/png": "[encoded data removed]",
      "text/plain": [
       "<Figure size 432x288 with 2 Axes>"
      ]
     },
     "metadata": {},
     "output_type": "display_data"
    }
   ],
   "source": [
    "import warnings\n",
    "warnings.filterwarnings('ignore')\n",
    "from xgboost import XGBClassifier\n",
    "\n",
    "use_label_encoder=False \n",
    "xgb = XGBClassifier()\n",
    "xgb.fit(X_train, y_train)\n",
    "\n",
    "#Predict\n",
    "y_pred_xgb = xgb.predict(X_test)\n",
    "\n",
    "#Evaluate Model Results on Test Set:\n",
    "acc_xgb   = accuracy_score(y_test, y_pred_xgb )\n",
    "prec_xgb  = precision_score(y_test, y_pred_xgb )\n",
    "rec_xgb   = recall_score(y_test, y_pred_xgb )\n",
    "f1_xgb    = f1_score(y_test, y_pred_xgb )\n",
    "\n",
    "Mean_score_xgb=((acc_xgb+prec_xgb+rec_xgb+f1_xgb)/4)\n",
    "\n",
    "#Get the confusion matrix\n",
    "cf_matrix_xgb = confusion_matrix(y_test, y_pred_xgb)\n",
    "\n",
    "#Plot confusion matrix\n",
    "ax= plt.subplot()\n",
    "sns.set(font_scale=1.4) # for label size\n",
    "sns.heatmap(cf_matrix_xgb, annot=True, fmt='g',annot_kws={\"size\": 20}) # font size\n",
    "ax.set_xlabel('Predicted Values')\n",
    "ax.set_ylabel('Actual Values') \n",
    "ax.set_title('Confusion Matrix for XGBClassifier')\n",
    "\n",
    "data_xgb = {'Classifier':  ['XGBClassifier'],\n",
    "            'Accuracy_score': [acc_xgb],\n",
    "            'Precision_score': [prec_xgb], \n",
    "            'Recall_score': [rec_xgb],\n",
    "            'F1_score': [f1_xgb],\n",
    "            'Mean_score':[Mean_score_xgb]\n",
    "            }\n",
    "\n",
    "comparison_xgb = pd.DataFrame (data_xgb, columns = ['Classifier','Accuracy_score','Precision_score', \n",
    "                                                    'Recall_score','F1_score','Mean_score'])\n",
    "comparison_xgb"
   ]
  },
  {
   "cell_type": "markdown",
   "metadata": {
    "id": "JGyhoU96SXy7"
   },
   "source": [
    "# 4. Evaluation and comparisons, various metrics"
   ]
  },
  {
   "cell_type": "markdown",
   "metadata": {},
   "source": [
    "## Comparison Table"
   ]
  },
  {
   "cell_type": "code",
   "execution_count": 55,
   "metadata": {},
   "outputs": [
    {
     "data": {
      "text/html": [
       "<div>\n",
       "<style scoped>\n",
       "    .dataframe tbody tr th:only-of-type {\n",
       "        vertical-align: middle;\n",
       "    }\n",
       "\n",
       "    .dataframe tbody tr th {\n",
       "        vertical-align: top;\n",
       "    }\n",
       "\n",
       "    .dataframe thead th {\n",
       "        text-align: right;\n",
       "    }\n",
       "</style>\n",
       "<table border=\"1\" class=\"dataframe\">\n",
       "  <thead>\n",
       "    <tr style=\"text-align: right;\">\n",
       "      <th></th>\n",
       "      <th>Classifier</th>\n",
       "      <th>Accuracy_score</th>\n",
       "      <th>Precision_score</th>\n",
       "      <th>Recall_score</th>\n",
       "      <th>F1_score</th>\n",
       "      <th>Mean_score</th>\n",
       "    </tr>\n",
       "  </thead>\n",
       "  <tbody>\n",
       "    <tr>\n",
       "      <th>0</th>\n",
       "      <td>DecisionTreeClassifier</td>\n",
       "      <td>0.951300</td>\n",
       "      <td>0.809237</td>\n",
       "      <td>0.883772</td>\n",
       "      <td>0.844864</td>\n",
       "      <td>0.872293</td>\n",
       "    </tr>\n",
       "    <tr>\n",
       "      <th>1</th>\n",
       "      <td>SVM</td>\n",
       "      <td>0.905890</td>\n",
       "      <td>0.666667</td>\n",
       "      <td>0.745614</td>\n",
       "      <td>0.703934</td>\n",
       "      <td>0.755526</td>\n",
       "    </tr>\n",
       "    <tr>\n",
       "      <th>2</th>\n",
       "      <td>RandomForestClassifier</td>\n",
       "      <td>0.975979</td>\n",
       "      <td>0.915401</td>\n",
       "      <td>0.925439</td>\n",
       "      <td>0.920393</td>\n",
       "      <td>0.934303</td>\n",
       "    </tr>\n",
       "    <tr>\n",
       "      <th>3</th>\n",
       "      <td>KNeighborsClassifier</td>\n",
       "      <td>0.839750</td>\n",
       "      <td>0.479250</td>\n",
       "      <td>0.785088</td>\n",
       "      <td>0.595179</td>\n",
       "      <td>0.674817</td>\n",
       "    </tr>\n",
       "    <tr>\n",
       "      <th>4</th>\n",
       "      <td>GaussianNB</td>\n",
       "      <td>0.879895</td>\n",
       "      <td>0.575707</td>\n",
       "      <td>0.758772</td>\n",
       "      <td>0.654683</td>\n",
       "      <td>0.717264</td>\n",
       "    </tr>\n",
       "    <tr>\n",
       "      <th>5</th>\n",
       "      <td>XGBClassifier</td>\n",
       "      <td>0.977295</td>\n",
       "      <td>0.917927</td>\n",
       "      <td>0.932018</td>\n",
       "      <td>0.924918</td>\n",
       "      <td>0.938039</td>\n",
       "    </tr>\n",
       "  </tbody>\n",
       "</table>\n",
       "</div>"
      ],
      "text/plain": [
       "               Classifier  Accuracy_score  Precision_score  Recall_score  \\\n",
       "0  DecisionTreeClassifier        0.951300         0.809237      0.883772   \n",
       "1                     SVM        0.905890         0.666667      0.745614   \n",
       "2  RandomForestClassifier        0.975979         0.915401      0.925439   \n",
       "3    KNeighborsClassifier        0.839750         0.479250      0.785088   \n",
       "4              GaussianNB        0.879895         0.575707      0.758772   \n",
       "5           XGBClassifier        0.977295         0.917927      0.932018   \n",
       "\n",
       "   F1_score  Mean_score  \n",
       "0  0.844864    0.872293  \n",
       "1  0.703934    0.755526  \n",
       "2  0.920393    0.934303  \n",
       "3  0.595179    0.674817  \n",
       "4  0.654683    0.717264  \n",
       "5  0.924918    0.938039  "
      ]
     },
     "execution_count": 55,
     "metadata": {},
     "output_type": "execute_result"
    }
   ],
   "source": [
    "data_total = {'Classifier':  ['DecisionTreeClassifier',\n",
    "                              'SVM',\n",
    "                              'RandomForestClassifier',\n",
    "                              'KNeighborsClassifier',\n",
    "                              'GaussianNB',\n",
    "                              'XGBClassifier'],\n",
    "              \n",
    "            'Accuracy_score':  [acc_tree,acc_svm,acc_rnd,acc_knn,acc_gnb,acc_xgb],\n",
    "            'Precision_score': [prec_tree,prec_svm,prec_rnd,prec_knn,prec_gnb,prec_xgb],\n",
    "            'Recall_score':    [rec_tree,rec_svm,rec_rnd,rec_knn,rec_gnb,rec_xgb],\n",
    "            'F1_score':        [f1_tree,f1_svm,f1_rnd,f1_knn,f1_gnb,f1_xgb],\n",
    "            'Mean_score':      [Mean_score_tree,Mean_score_svm,Mean_score_rnd,Mean_score_knn,Mean_score_gnb,Mean_score_xgb]\n",
    "            }\n",
    "\n",
    "comparison_total = pd.DataFrame (data_total,columns = ['Classifier','Accuracy_score', 'Precision_score', \n",
    "                                                       'Recall_score','F1_score', 'Mean_score'])\n",
    "comparison_total"
   ]
  },
  {
   "cell_type": "markdown",
   "metadata": {},
   "source": [
    "### ROC Curve analysis"
   ]
  },
  {
   "cell_type": "code",
   "execution_count": 56,
   "metadata": {},
   "outputs": [
    {
     "name": "stdout",
     "output_type": "stream",
     "text": [
      "[22:21:58] WARNING: C:/Users/Administrator/workspace/xgboost-win64_release_1.4.0/src/learner.cc:1095: Starting in XGBoost 1.3.0, the default evaluation metric used with the objective 'binary:logistic' was changed from 'error' to 'logloss'. Explicitly set eval_metric if you'd like to restore the old behavior.\n"
     ]
    },
    {
     "data": {
      "image/png": "[encoded data removed]",
      "text/plain": [
       "<Figure size 576x432 with 1 Axes>"
      ]
     },
     "metadata": {},
     "output_type": "display_data"
    }
   ],
   "source": [
    "import warnings\n",
    "warnings.filterwarnings('ignore')\n",
    "from sklearn.metrics import roc_curve, roc_auc_score\n",
    "from sklearn import metrics\n",
    "\n",
    "plt.figure(figsize=(8,6))\n",
    "\n",
    "# Add the models to the list that you want to view on the ROC plot----------------\n",
    "models = [\n",
    "{   'label': 'GaussianNB','model':GaussianNB(),},\n",
    "{   'label': 'KNeighborsClassifier','model':KNeighborsClassifier(),},\n",
    "{   'label': 'DecisionTreeClassifier', 'model':DecisionTreeClassifier(),},\n",
    "{   'label': 'RandomForestClassifier','model': RandomForestClassifier(),},\n",
    "{   'label': 'SVC','model': SVC(gamma='auto',probability=True),},\n",
    "{   'label': 'XGBClassifier','model': XGBClassifier(),}\n",
    "]\n",
    "\n",
    "# Below for loop iterates through your models list--------------------------------\n",
    "for m in models:\n",
    "    model = m['model']                # select the model\n",
    "    model.fit(X_train, y_train)       # train the model\n",
    "    y_pred = model.predict(X_test)    # predict the test data\n",
    "    \n",
    "# Compute False postive rate, and True positive rate------------------------------\n",
    "    fpr, tpr, thresholds = metrics.roc_curve(y_test, model.predict_proba(X_test)[:,1])\n",
    "    \n",
    "# Calculate Area under the curve to display on the plot---------------------------\n",
    "    auc = metrics.roc_auc_score(y_test,model.predict(X_test))\n",
    "    \n",
    "# Now, plot the computed values---------------------------------------------------\n",
    "    plt.plot(fpr, tpr, label='%s ROC (area = %0.2f)' % (m['label'], auc))\n",
    "    \n",
    "# Custom settings for the plot---------------------------------------------------- \n",
    "plt.plot([0, 1], [0, 1],'r--')\n",
    "#plt.xlim([0.0, 1.0])\n",
    "plt.xticks(np.arange(0.0, 1.1, step=0.1))\n",
    "#plt.ylim([0.0, 1.05])\n",
    "plt.yticks(np.arange(0.0, 1.1, step=0.1))\n",
    "\n",
    "plt.xlabel(\"Flase Positive Rate\", fontsize=15)\n",
    "plt.ylabel(\"True Positive Rate\", fontsize=15)\n",
    "\n",
    "plt.title('ROC Curve Analysis', fontweight='bold', fontsize=15)\n",
    "plt.legend(prop={'size':13}, loc='lower right')\n",
    "plt.show()  "
   ]
  },
  {
   "cell_type": "code",
   "execution_count": 58,
   "metadata": {},
   "outputs": [
    {
     "data": {
      "text/plain": [
       "0.9586529840862318"
      ]
     },
     "execution_count": 58,
     "metadata": {},
     "output_type": "execute_result"
    }
   ],
   "source": [
    "#check\n",
    "auc_xgb = roc_auc_score(y_test, y_pred_xgb)\n",
    "auc_xgb"
   ]
  },
  {
   "cell_type": "markdown",
   "metadata": {
    "id": "C4TYzMqQSXy_"
   },
   "source": [
    "## 5. Hyperparameter Optimization"
   ]
  },
  {
   "cell_type": "markdown",
   "metadata": {},
   "source": [
    "### Randomized Search _ XGBClassifier"
   ]
  },
  {
   "cell_type": "code",
   "execution_count": 59,
   "metadata": {},
   "outputs": [
    {
     "name": "stdout",
     "output_type": "stream",
     "text": [
      "Fitting 5 folds for each of 5 candidates, totalling 25 fits\n",
      "[22:23:33] WARNING: C:/Users/Administrator/workspace/xgboost-win64_release_1.4.0/src/learner.cc:1095: Starting in XGBoost 1.3.0, the default evaluation metric used with the objective 'binary:logistic' was changed from 'error' to 'logloss'. Explicitly set eval_metric if you'd like to restore the old behavior.\n",
      "\n",
      "Accuracy on the training subset  1.0\n",
      "Accuracy on the test subset: 0.9947977158343013\n"
     ]
    }
   ],
   "source": [
    "from sklearn.model_selection import RandomizedSearchCV\n",
    "estimator = XGBClassifier()\n",
    "\n",
    "parameters = {  'max_depth':        [2,3,4,5,6,8,10,12,15],\n",
    "                'n_estimators':     [50, 100,150,200,400,600],\n",
    "                'learning_rate':    [0.05, 0.10,0.15, 0.20,0.25,0.30],\n",
    "                'min_child_weight': [2,3,5,7,9],\n",
    "                'gamma':            [0.0, 0.1, 0.2, 0.3, 0,4]\n",
    "             }\n",
    "\n",
    "random_search = RandomizedSearchCV(\n",
    "                estimator = estimator, \n",
    "                param_distributions = parameters, \n",
    "                n_iter=5, \n",
    "                scoring = 'roc_auc',\n",
    "                n_jobs = -1,\n",
    "                cv=5, \n",
    "                verbose=3\n",
    "                )\n",
    "\n",
    "random_search.fit(X_train, y_train)\n",
    "print('\\nAccuracy on the training subset ',(random_search.score(X_train, y_train)))\n",
    "print('Accuracy on the test subset:',      (random_search.score(X_test, y_test)))\n",
    "\n"
   ]
  },
  {
   "cell_type": "code",
   "execution_count": 60,
   "metadata": {},
   "outputs": [],
   "source": [
    "#Random search best model prediction\n",
    "\n",
    "y_pred_random = random_search.best_estimator_.predict(X_test)"
   ]
  },
  {
   "cell_type": "code",
   "execution_count": 61,
   "metadata": {},
   "outputs": [
    {
     "data": {
      "text/html": [
       "<div>\n",
       "<style scoped>\n",
       "    .dataframe tbody tr th:only-of-type {\n",
       "        vertical-align: middle;\n",
       "    }\n",
       "\n",
       "    .dataframe tbody tr th {\n",
       "        vertical-align: top;\n",
       "    }\n",
       "\n",
       "    .dataframe thead th {\n",
       "        text-align: right;\n",
       "    }\n",
       "</style>\n",
       "<table border=\"1\" class=\"dataframe\">\n",
       "  <thead>\n",
       "    <tr style=\"text-align: right;\">\n",
       "      <th></th>\n",
       "      <th>Classifier</th>\n",
       "      <th>Accuracy_score</th>\n",
       "      <th>Precision_score</th>\n",
       "      <th>Recall_score</th>\n",
       "      <th>F1_score</th>\n",
       "      <th>Mean_score</th>\n",
       "    </tr>\n",
       "  </thead>\n",
       "  <tbody>\n",
       "    <tr>\n",
       "      <th>0</th>\n",
       "      <td>XGBClassifier_Random</td>\n",
       "      <td>0.979599</td>\n",
       "      <td>0.930131</td>\n",
       "      <td>0.934211</td>\n",
       "      <td>0.932166</td>\n",
       "      <td>0.944027</td>\n",
       "    </tr>\n",
       "  </tbody>\n",
       "</table>\n",
       "</div>"
      ],
      "text/plain": [
       "             Classifier  Accuracy_score  Precision_score  Recall_score  \\\n",
       "0  XGBClassifier_Random        0.979599         0.930131      0.934211   \n",
       "\n",
       "   F1_score  Mean_score  \n",
       "0  0.932166    0.944027  "
      ]
     },
     "execution_count": 61,
     "metadata": {},
     "output_type": "execute_result"
    }
   ],
   "source": [
    "# Random Search results\n",
    "\n",
    "acc_xgb_random       = accuracy_score(y_test, y_pred_random)\n",
    "prec_xgb_random      = precision_score(y_test, y_pred_random )\n",
    "rec_xgb_random       = recall_score(y_test, y_pred_random )\n",
    "f1_xgb_random        = f1_score(y_test, y_pred_random )\n",
    "Mean_score_xgb_rand  = ((acc_xgb_random+prec_xgb_random+rec_xgb_random+f1_xgb_random)/4)\n",
    "\n",
    "data_xgb_random      = { 'Classifier':     ['XGBClassifier_Random'],\n",
    "                        'Accuracy_score':  [acc_xgb_random],\n",
    "                        'Precision_score': [prec_xgb_random], \n",
    "                        'Recall_score':    [rec_xgb_random],\n",
    "                        'F1_score':        [f1_xgb_random],\n",
    "                        'Mean_score':      [Mean_score_xgb_rand]\n",
    "                        } \n",
    "\n",
    "comparison_xgb_random = pd.DataFrame (data_xgb_random, columns = ['Classifier','Accuracy_score','Precision_score', \n",
    "                                                                  'Recall_score','F1_score', 'Mean_score'])\n",
    "comparison_xgb_random"
   ]
  },
  {
   "cell_type": "markdown",
   "metadata": {},
   "source": [
    "### Manual Optimization _ XGBClassifier"
   ]
  },
  {
   "cell_type": "code",
   "execution_count": 62,
   "metadata": {},
   "outputs": [
    {
     "name": "stdout",
     "output_type": "stream",
     "text": [
      "[22:23:56] WARNING: C:/Users/Administrator/workspace/xgboost-win64_release_1.4.0/src/learner.cc:1095: Starting in XGBoost 1.3.0, the default evaluation metric used with the objective 'binary:logistic' was changed from 'error' to 'logloss'. Explicitly set eval_metric if you'd like to restore the old behavior.\n",
      "\n",
      "Accuracy on the training subset  0.9954368767956735\n",
      "Accuracy on the test subset:     0.9809147745969069\n"
     ]
    }
   ],
   "source": [
    "# Manual Model optimization \n",
    "\n",
    "import warnings\n",
    "warnings.filterwarnings('ignore')\n",
    "\n",
    "model = XGBClassifier(\n",
    "                      max_depth = 3,\n",
    "                      subsample = 1,\n",
    "                      n_estimators = 400,   # if increase n_estimators\n",
    "                      learning_rate = 0.1,  # than decrease learning_rate \n",
    "                      min_child_weight = 1,\n",
    "                      random_state=5,\n",
    "                      reg_alpha = 0,                    \n",
    "                      reg_lambda = 1\n",
    "                      )\n",
    "\n",
    "model.fit(X_train, y_train)\n",
    "\n",
    "y_pred_man      =     model.predict(X_test)\n",
    "y_train_predict =     model.predict(X_train)\n",
    "\n",
    "print('\\nAccuracy on the training subset ',(model.score(X_train, y_train)))\n",
    "print('Accuracy on the test subset:    ', (model.score(X_test, y_test)))"
   ]
  },
  {
   "cell_type": "code",
   "execution_count": 63,
   "metadata": {},
   "outputs": [
    {
     "data": {
      "text/html": [
       "<div>\n",
       "<style scoped>\n",
       "    .dataframe tbody tr th:only-of-type {\n",
       "        vertical-align: middle;\n",
       "    }\n",
       "\n",
       "    .dataframe tbody tr th {\n",
       "        vertical-align: top;\n",
       "    }\n",
       "\n",
       "    .dataframe thead th {\n",
       "        text-align: right;\n",
       "    }\n",
       "</style>\n",
       "<table border=\"1\" class=\"dataframe\">\n",
       "  <thead>\n",
       "    <tr style=\"text-align: right;\">\n",
       "      <th></th>\n",
       "      <th>Classifier</th>\n",
       "      <th>Accuracy_score</th>\n",
       "      <th>Precision_score</th>\n",
       "      <th>Recall_score</th>\n",
       "      <th>F1_score</th>\n",
       "      <th>Mean_score</th>\n",
       "    </tr>\n",
       "  </thead>\n",
       "  <tbody>\n",
       "    <tr>\n",
       "      <th>0</th>\n",
       "      <td>XGBClassifier_Manual</td>\n",
       "      <td>0.980915</td>\n",
       "      <td>0.932609</td>\n",
       "      <td>0.940789</td>\n",
       "      <td>0.936681</td>\n",
       "      <td>0.947749</td>\n",
       "    </tr>\n",
       "  </tbody>\n",
       "</table>\n",
       "</div>"
      ],
      "text/plain": [
       "             Classifier  Accuracy_score  Precision_score  Recall_score  \\\n",
       "0  XGBClassifier_Manual        0.980915         0.932609      0.940789   \n",
       "\n",
       "   F1_score  Mean_score  \n",
       "0  0.936681    0.947749  "
      ]
     },
     "execution_count": 63,
     "metadata": {},
     "output_type": "execute_result"
    }
   ],
   "source": [
    "# Manual Search results\n",
    "\n",
    "acc_xgb_man         = accuracy_score(y_test, y_pred_man )\n",
    "prec_xgb_man        = precision_score(y_test, y_pred_man )\n",
    "rec_xgb_man         = recall_score(y_test, y_pred_man )\n",
    "f1_xgb_man          = f1_score(y_test, y_pred_man )\n",
    "Mean_score_xgb_man  = ((acc_xgb_man+prec_xgb_man+rec_xgb_man+f1_xgb_man)/4)\n",
    "\n",
    "data_xgb_man        = {'Classifier':      ['XGBClassifier_Manual'],\n",
    "                       'Accuracy_score':  [acc_xgb_man],\n",
    "                       'Precision_score': [prec_xgb_man], \n",
    "                       'Recall_score':    [rec_xgb_man],\n",
    "                       'F1_score':        [f1_xgb_man],\n",
    "                       'Mean_score':      [Mean_score_xgb_man]\n",
    "                       }\n",
    "\n",
    "comparison_xgb_man = pd.DataFrame (data_xgb_man, columns = ['Classifier','Accuracy_score','Precision_score', \n",
    "                                                            'Recall_score', 'F1_score', 'Mean_score'])\n",
    "comparison_xgb_man"
   ]
  },
  {
   "cell_type": "markdown",
   "metadata": {
    "id": "c1Uyu5APSXzD"
   },
   "source": [
    "## 6. Final evaluations and comparisons\n",
    "- the best model - analyze it in details, evaluate it with different train/test splits. Is it robust enough"
   ]
  },
  {
   "cell_type": "markdown",
   "metadata": {},
   "source": [
    "### XGBClassifier - default"
   ]
  },
  {
   "cell_type": "code",
   "execution_count": 64,
   "metadata": {},
   "outputs": [
    {
     "data": {
      "text/html": [
       "<div>\n",
       "<style scoped>\n",
       "    .dataframe tbody tr th:only-of-type {\n",
       "        vertical-align: middle;\n",
       "    }\n",
       "\n",
       "    .dataframe tbody tr th {\n",
       "        vertical-align: top;\n",
       "    }\n",
       "\n",
       "    .dataframe thead th {\n",
       "        text-align: right;\n",
       "    }\n",
       "</style>\n",
       "<table border=\"1\" class=\"dataframe\">\n",
       "  <thead>\n",
       "    <tr style=\"text-align: right;\">\n",
       "      <th></th>\n",
       "      <th>Classifier</th>\n",
       "      <th>Accuracy_score</th>\n",
       "      <th>Precision_score</th>\n",
       "      <th>Recall_score</th>\n",
       "      <th>F1_score</th>\n",
       "      <th>Mean_score</th>\n",
       "    </tr>\n",
       "  </thead>\n",
       "  <tbody>\n",
       "    <tr>\n",
       "      <th>0</th>\n",
       "      <td>XGBClassifier</td>\n",
       "      <td>0.977295</td>\n",
       "      <td>0.917927</td>\n",
       "      <td>0.932018</td>\n",
       "      <td>0.924918</td>\n",
       "      <td>0.938039</td>\n",
       "    </tr>\n",
       "  </tbody>\n",
       "</table>\n",
       "</div>"
      ],
      "text/plain": [
       "      Classifier  Accuracy_score  Precision_score  Recall_score  F1_score  \\\n",
       "0  XGBClassifier        0.977295         0.917927      0.932018  0.924918   \n",
       "\n",
       "   Mean_score  \n",
       "0    0.938039  "
      ]
     },
     "execution_count": 64,
     "metadata": {},
     "output_type": "execute_result"
    }
   ],
   "source": [
    "comparison_xgb"
   ]
  },
  {
   "cell_type": "markdown",
   "metadata": {},
   "source": [
    "### ManualSearchCV Optimization"
   ]
  },
  {
   "cell_type": "code",
   "execution_count": 65,
   "metadata": {},
   "outputs": [
    {
     "data": {
      "text/html": [
       "<div>\n",
       "<style scoped>\n",
       "    .dataframe tbody tr th:only-of-type {\n",
       "        vertical-align: middle;\n",
       "    }\n",
       "\n",
       "    .dataframe tbody tr th {\n",
       "        vertical-align: top;\n",
       "    }\n",
       "\n",
       "    .dataframe thead th {\n",
       "        text-align: right;\n",
       "    }\n",
       "</style>\n",
       "<table border=\"1\" class=\"dataframe\">\n",
       "  <thead>\n",
       "    <tr style=\"text-align: right;\">\n",
       "      <th></th>\n",
       "      <th>Classifier</th>\n",
       "      <th>Accuracy_score</th>\n",
       "      <th>Precision_score</th>\n",
       "      <th>Recall_score</th>\n",
       "      <th>F1_score</th>\n",
       "      <th>Mean_score</th>\n",
       "    </tr>\n",
       "  </thead>\n",
       "  <tbody>\n",
       "    <tr>\n",
       "      <th>0</th>\n",
       "      <td>XGBClassifier_Manual</td>\n",
       "      <td>0.980915</td>\n",
       "      <td>0.932609</td>\n",
       "      <td>0.940789</td>\n",
       "      <td>0.936681</td>\n",
       "      <td>0.947749</td>\n",
       "    </tr>\n",
       "  </tbody>\n",
       "</table>\n",
       "</div>"
      ],
      "text/plain": [
       "             Classifier  Accuracy_score  Precision_score  Recall_score  \\\n",
       "0  XGBClassifier_Manual        0.980915         0.932609      0.940789   \n",
       "\n",
       "   F1_score  Mean_score  \n",
       "0  0.936681    0.947749  "
      ]
     },
     "execution_count": 65,
     "metadata": {},
     "output_type": "execute_result"
    }
   ],
   "source": [
    "# Best Result\n",
    "comparison_xgb_man"
   ]
  },
  {
   "cell_type": "markdown",
   "metadata": {},
   "source": [
    "### RandomizedSearchCV Optimization"
   ]
  },
  {
   "cell_type": "code",
   "execution_count": 66,
   "metadata": {},
   "outputs": [
    {
     "data": {
      "text/html": [
       "<div>\n",
       "<style scoped>\n",
       "    .dataframe tbody tr th:only-of-type {\n",
       "        vertical-align: middle;\n",
       "    }\n",
       "\n",
       "    .dataframe tbody tr th {\n",
       "        vertical-align: top;\n",
       "    }\n",
       "\n",
       "    .dataframe thead th {\n",
       "        text-align: right;\n",
       "    }\n",
       "</style>\n",
       "<table border=\"1\" class=\"dataframe\">\n",
       "  <thead>\n",
       "    <tr style=\"text-align: right;\">\n",
       "      <th></th>\n",
       "      <th>Classifier</th>\n",
       "      <th>Accuracy_score</th>\n",
       "      <th>Precision_score</th>\n",
       "      <th>Recall_score</th>\n",
       "      <th>F1_score</th>\n",
       "      <th>Mean_score</th>\n",
       "    </tr>\n",
       "  </thead>\n",
       "  <tbody>\n",
       "    <tr>\n",
       "      <th>0</th>\n",
       "      <td>XGBClassifier_Random</td>\n",
       "      <td>0.979599</td>\n",
       "      <td>0.930131</td>\n",
       "      <td>0.934211</td>\n",
       "      <td>0.932166</td>\n",
       "      <td>0.944027</td>\n",
       "    </tr>\n",
       "  </tbody>\n",
       "</table>\n",
       "</div>"
      ],
      "text/plain": [
       "             Classifier  Accuracy_score  Precision_score  Recall_score  \\\n",
       "0  XGBClassifier_Random        0.979599         0.930131      0.934211   \n",
       "\n",
       "   F1_score  Mean_score  \n",
       "0  0.932166    0.944027  "
      ]
     },
     "execution_count": 66,
     "metadata": {},
     "output_type": "execute_result"
    }
   ],
   "source": [
    "comparison_xgb_random "
   ]
  },
  {
   "cell_type": "code",
   "execution_count": 69,
   "metadata": {},
   "outputs": [
    {
     "data": {
      "image/png": "[encoded data removed]",
      "text/plain": [
       "<Figure size 360x360 with 1 Axes>"
      ]
     },
     "metadata": {},
     "output_type": "display_data"
    }
   ],
   "source": [
    "#Best Model ROC Curve\n",
    "\n",
    "import sklearn.metrics as metrics\n",
    "\n",
    "probs = model.predict_proba(X_test)\n",
    "preds = probs[:,1]\n",
    "fpr, tpr, threshold = metrics.roc_curve(y_test, preds)\n",
    "roc_auc = metrics.auc(fpr, tpr)\n",
    "fig2 = plt.figure(figsize=(5,5))\n",
    "\n",
    "plt.title('ROC Curve Analysis for Best Classifier')\n",
    "plt.plot(fpr, tpr, 'b', label = 'AUC = %0.2f' % roc_auc)\n",
    "plt.legend(loc = 'lower right')\n",
    "plt.plot([0, 1], [0, 1],'r--')\n",
    "\n",
    "plt.xticks(np.arange(0.0, 1.1, step=0.1))\n",
    "plt.yticks(np.arange(0.0, 1.1, step=0.1))\n",
    "plt.ylabel('True Positive Rate')\n",
    "plt.xlabel('False Positive Rate')\n",
    "plt.show()"
   ]
  },
  {
   "cell_type": "markdown",
   "metadata": {},
   "source": [
    "### Comparison Cross_Val_Score_mean"
   ]
  },
  {
   "cell_type": "code",
   "execution_count": null,
   "metadata": {},
   "outputs": [],
   "source": [
    "np.random.seed(seed=1)\n",
    "\n",
    "kf = KFold(n_splits=10, shuffle=True)\n",
    "\n",
    "scores1 = cross_val_score(model, X, y, cv=kf, scoring='accuracy').mean()\n",
    "scores2 = cross_val_score(model, X, y, cv=kf, scoring='precision').mean()\n",
    "scores3 = cross_val_score(model, X, y, cv=kf, scoring='recall').mean()"
   ]
  },
  {
   "cell_type": "code",
   "execution_count": 71,
   "metadata": {},
   "outputs": [
    {
     "data": {
      "text/html": [
       "<div>\n",
       "<style scoped>\n",
       "    .dataframe tbody tr th:only-of-type {\n",
       "        vertical-align: middle;\n",
       "    }\n",
       "\n",
       "    .dataframe tbody tr th {\n",
       "        vertical-align: top;\n",
       "    }\n",
       "\n",
       "    .dataframe thead th {\n",
       "        text-align: right;\n",
       "    }\n",
       "</style>\n",
       "<table border=\"1\" class=\"dataframe\">\n",
       "  <thead>\n",
       "    <tr style=\"text-align: right;\">\n",
       "      <th></th>\n",
       "      <th>Metric</th>\n",
       "      <th>EXtremeGradientBoosting</th>\n",
       "    </tr>\n",
       "  </thead>\n",
       "  <tbody>\n",
       "    <tr>\n",
       "      <th>0</th>\n",
       "      <td>Accuracy</td>\n",
       "      <td>0.982916</td>\n",
       "    </tr>\n",
       "    <tr>\n",
       "      <th>1</th>\n",
       "      <td>Precision</td>\n",
       "      <td>0.962469</td>\n",
       "    </tr>\n",
       "    <tr>\n",
       "      <th>2</th>\n",
       "      <td>Recall</td>\n",
       "      <td>0.925466</td>\n",
       "    </tr>\n",
       "  </tbody>\n",
       "</table>\n",
       "</div>"
      ],
      "text/plain": [
       "      Metric  EXtremeGradientBoosting\n",
       "0   Accuracy                 0.982916\n",
       "1  Precision                 0.962469\n",
       "2     Recall                 0.925466"
      ]
     },
     "execution_count": 71,
     "metadata": {},
     "output_type": "execute_result"
    }
   ],
   "source": [
    "data_kf = {'Metric':  ['Accuracy','Precision', 'Recall'],\n",
    "        'EXtremeGradientBoosting':[scores1, scores2,scores3]\n",
    "        }\n",
    "comparison_kf = pd.DataFrame (data_kf, columns = ['Metric', 'EXtremeGradientBoosting'])\n",
    "comparison_kf\n",
    "        "
   ]
  },
  {
   "cell_type": "markdown",
   "metadata": {
    "id": "-yo2Rs_5SXzG"
   },
   "source": [
    "## 7. Future improvements\n",
    "- which features are the most important"
   ]
  },
  {
   "cell_type": "code",
   "execution_count": 67,
   "metadata": {},
   "outputs": [
    {
     "data": {
      "image/png": "[encoded data removed]",
      "text/plain": [
       "<Figure size 720x720 with 1 Axes>"
      ]
     },
     "metadata": {},
     "output_type": "display_data"
    }
   ],
   "source": [
    "# use feature importance for feature selection\n",
    "from sklearn.feature_selection import SelectFromModel\n",
    "from sklearn import metrics\n",
    "from numpy import sort\n",
    "from xgboost import plot_importance\n",
    "\n",
    "#Feature Importance for the best model\n",
    "\n",
    "fig, ax = plt.subplots(figsize=(10,10))\n",
    "plot_importance(model, ax = ax)\n",
    "plt.show()\n"
   ]
  },
  {
   "cell_type": "markdown",
   "metadata": {},
   "source": [
    "### Saving the file with Pickle"
   ]
  },
  {
   "cell_type": "code",
   "execution_count": 68,
   "metadata": {},
   "outputs": [],
   "source": [
    "filename = 'Notebook_training_final'\n",
    "pickle.dump(model, open(filename,'wb'))"
   ]
  }
 ],
 "metadata": {
  "colab": {
   "collapsed_sections": [],
   "name": "Bank_template.ipynb",
   "provenance": []
  },
  "kernelspec": {
   "display_name": "Python 3",
   "language": "python",
   "name": "python3"
  },
  "language_info": {
   "codemirror_mode": {
    "name": "ipython",
    "version": 3
   },
   "file_extension": ".py",
   "mimetype": "text/x-python",
   "name": "python",
   "nbconvert_exporter": "python",
   "pygments_lexer": "ipython3",
   "version": "3.7.6"
  }
 },
 "nbformat": 4,
 "nbformat_minor": 1
}
